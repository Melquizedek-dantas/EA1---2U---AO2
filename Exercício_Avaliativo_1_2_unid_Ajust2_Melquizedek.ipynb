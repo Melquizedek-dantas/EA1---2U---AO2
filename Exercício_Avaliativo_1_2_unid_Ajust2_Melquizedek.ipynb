{
  "cells": [
    {
      "cell_type": "markdown",
      "metadata": {
        "id": "bzNwlpGkOwXh"
      },
      "source": [
        "# Exercício Avaliativo 1"
      ]
    },
    {
      "cell_type": "markdown",
      "metadata": {
        "id": "Ggo3GPJROEGI"
      },
      "source": [
        "Ajustar a poligonal em questão pelo Método Correlato da Poligonal em questão:"
      ]
    },
    {
      "cell_type": "markdown",
      "metadata": {
        "id": "nigbNd7rS6IE"
      },
      "source": [
        "\n",
        "Fluxograma de Ajustamento\n",
        "---\n",
        "\n",
        "https://whimsical.com/fluxograma-de-ajustamento-5Tz6MNRCyRpm6Q7EAbfL8c@6HYTAunKLgTVnjdVazAVa8BwQVFKbs2gMMTcX6N7wvMNtBY"
      ]
    },
    {
      "cell_type": "markdown",
      "metadata": {
        "id": "wyEZjDPEE5JA"
      },
      "source": [
        "\n",
        "\n",
        "> **Fonte: MORAES (1997, p14)**\n",
        "\n"
      ]
    },
    {
      "cell_type": "markdown",
      "metadata": {
        "id": "-McsUE_FEzMB"
      },
      "source": [
        "As coordenadas fixas do ponto 1 = (p + 1) valem x = y = 10.000,000 m;\n",
        "\n",
        "O azimute fixo da linha 1-A é de 315°00'00\";\n",
        "\n",
        "E os desvios-padrão das distâncias $S_{ik}$ são dados por $\\sigma_s = (5 \\text{ mm} + 5 \\text{ ppm})$;\n",
        "\n",
        "E os desvios-padrão dos ângulos $a_i$ valem $\\sigma_a = 0,8\"$.\n"
      ]
    },
    {
      "cell_type": "markdown",
      "metadata": {
        "id": "YjmyASkbE3yi"
      },
      "source": [
        "<img src=\"https://i.ibb.co/v4J9dVK/Captura-de-tela-2024-07-23-104620.jpg\" alt=\"Captura-de-tela-2024-07-23-104620\" border=\"0\">"
      ]
    },
    {
      "cell_type": "markdown",
      "metadata": {
        "id": "E7aocQRiGEGr"
      },
      "source": [
        "### Tabela 1: Dados Observados e Calculados Provisoriamente\n",
        "\n",
        "| Ponto i | Ângulo αᵢ Observado | σ²ᵢ (°²) | Linha ik | Distância Sᵢₖ Observada (m) | σ²S (m²) | Azimute Aᵢₓₖ Provisório | Ponto i | Coordenadas Provisórias x (m) | y (m) |\n",
        "|---------|----------------------|----------|----------|-----------------------------|---------|--------------------------|---------|------------------------------|-------|\n",
        "| 1       | 90°00'01,0\"          | 0,64     | -        | -                           | -       | -                        | -       | -                            | -     |\n",
        "| 2       | 30°00'00,1\"          | 0,64     | 1-2      | 1.000,000                   | 0,0001  | 45°00'01,0\"              | 2       | 10.707,11021                 | 10.707,10335 |\n",
        "| 3       | 30°00'00,8\"          | 0,64     | 2-3      | 1.000,005                   | 0,0001  | 165°00'01,1\"             | 3       | 10.965,92540                 | 9.741,17132  |\n",
        "| 4       | 21°00'00,0\"          | 0,64     | 3-4      | 1.000,010                   | 0,0001  | 285°00'01,9\"             | 4       | 9.999,99230                  | 10.000,00185 |\n",
        "| -       | -                    | -        | 4-A      | -                           | -       | 315°00'01,9\"             | -       | -                            | -     |\n",
        "\n",
        "\n",
        "\n",
        "**Nota:** $e_a = +1,9\"$; $e_x = -0,00770$; $e_y = 0,00185$\n"
      ]
    },
    {
      "cell_type": "code",
      "execution_count": 283,
      "metadata": {
        "id": "OjSrM8D-nT6F"
      },
      "outputs": [],
      "source": [
        "import pandas as pd\n",
        "import numpy as np\n",
        "import sympy as sp\n",
        "import math as mt"
      ]
    },
    {
      "cell_type": "markdown",
      "metadata": {
        "id": "nd2D0G4PHCRt"
      },
      "source": [
        "## Passo 1: Estabelecimento das Equações de Observação"
      ]
    },
    {
      "cell_type": "markdown",
      "metadata": {
        "id": "aE8oOR2JHVtm"
      },
      "source": [
        "## Passo 1: Estabelecimento das Equações de Observação\n",
        "\n",
        "Cada observação (ângulo ou distância) na poligonal tem uma equação associada, onde introduzimos as incógnitas (correções) que pretendemos determinar. Para ângulos e distâncias, as equações são geralmente formuladas como:\n",
        "\n",
        "$$ L = L_0 + v $$\n",
        "\n",
        "Onde:\n",
        "- $ L $ é o valor observado corrigido,\n",
        "- $ L_0 $ é o valor observado inicial,\n",
        "- $ v $ é a correção a ser determinada.\n"
      ]
    },
    {
      "cell_type": "markdown",
      "metadata": {
        "id": "Y8uRj1T3V0XX"
      },
      "source": [
        "Dados Observados\n",
        "\n",
        "De acordo com as tabelas e informações fornecidas:\n",
        "\n",
        "- Ângulos observados e suas precisões (desvios padrão).\n",
        "- Distâncias observadas entre os pontos e suas precisões.\n",
        "- Azimutes provisórios para cada segmento da poligonal."
      ]
    },
    {
      "cell_type": "markdown",
      "metadata": {
        "id": "mheCPHJzUkm8"
      },
      "source": [
        "Ângulos Observados"
      ]
    },
    {
      "cell_type": "code",
      "execution_count": 284,
      "metadata": {
        "colab": {
          "base_uri": "https://localhost:8080/",
          "height": 175
        },
        "id": "KXfu8ZX3D-Re",
        "outputId": "9e2484d9-d7a1-467c-9ad8-4909581c5114"
      },
      "outputs": [
        {
          "output_type": "display_data",
          "data": {
            "text/plain": [
              "   GRAUS  MINUTOS  SEGUNDOS\n",
              "0     90        0       1.0\n",
              "1     30        0       0.1\n",
              "2     30        0       0.8\n",
              "3     21        0       0.0"
            ],
            "text/html": [
              "\n",
              "  <div id=\"df-816fd7e5-ac97-4d35-9edb-5a8bbec1d064\" class=\"colab-df-container\">\n",
              "    <div>\n",
              "<style scoped>\n",
              "    .dataframe tbody tr th:only-of-type {\n",
              "        vertical-align: middle;\n",
              "    }\n",
              "\n",
              "    .dataframe tbody tr th {\n",
              "        vertical-align: top;\n",
              "    }\n",
              "\n",
              "    .dataframe thead th {\n",
              "        text-align: right;\n",
              "    }\n",
              "</style>\n",
              "<table border=\"1\" class=\"dataframe\">\n",
              "  <thead>\n",
              "    <tr style=\"text-align: right;\">\n",
              "      <th></th>\n",
              "      <th>GRAUS</th>\n",
              "      <th>MINUTOS</th>\n",
              "      <th>SEGUNDOS</th>\n",
              "    </tr>\n",
              "  </thead>\n",
              "  <tbody>\n",
              "    <tr>\n",
              "      <th>0</th>\n",
              "      <td>90</td>\n",
              "      <td>0</td>\n",
              "      <td>1.0</td>\n",
              "    </tr>\n",
              "    <tr>\n",
              "      <th>1</th>\n",
              "      <td>30</td>\n",
              "      <td>0</td>\n",
              "      <td>0.1</td>\n",
              "    </tr>\n",
              "    <tr>\n",
              "      <th>2</th>\n",
              "      <td>30</td>\n",
              "      <td>0</td>\n",
              "      <td>0.8</td>\n",
              "    </tr>\n",
              "    <tr>\n",
              "      <th>3</th>\n",
              "      <td>21</td>\n",
              "      <td>0</td>\n",
              "      <td>0.0</td>\n",
              "    </tr>\n",
              "  </tbody>\n",
              "</table>\n",
              "</div>\n",
              "    <div class=\"colab-df-buttons\">\n",
              "\n",
              "  <div class=\"colab-df-container\">\n",
              "    <button class=\"colab-df-convert\" onclick=\"convertToInteractive('df-816fd7e5-ac97-4d35-9edb-5a8bbec1d064')\"\n",
              "            title=\"Convert this dataframe to an interactive table.\"\n",
              "            style=\"display:none;\">\n",
              "\n",
              "  <svg xmlns=\"http://www.w3.org/2000/svg\" height=\"24px\" viewBox=\"0 -960 960 960\">\n",
              "    <path d=\"M120-120v-720h720v720H120Zm60-500h600v-160H180v160Zm220 220h160v-160H400v160Zm0 220h160v-160H400v160ZM180-400h160v-160H180v160Zm440 0h160v-160H620v160ZM180-180h160v-160H180v160Zm440 0h160v-160H620v160Z\"/>\n",
              "  </svg>\n",
              "    </button>\n",
              "\n",
              "  <style>\n",
              "    .colab-df-container {\n",
              "      display:flex;\n",
              "      gap: 12px;\n",
              "    }\n",
              "\n",
              "    .colab-df-convert {\n",
              "      background-color: #E8F0FE;\n",
              "      border: none;\n",
              "      border-radius: 50%;\n",
              "      cursor: pointer;\n",
              "      display: none;\n",
              "      fill: #1967D2;\n",
              "      height: 32px;\n",
              "      padding: 0 0 0 0;\n",
              "      width: 32px;\n",
              "    }\n",
              "\n",
              "    .colab-df-convert:hover {\n",
              "      background-color: #E2EBFA;\n",
              "      box-shadow: 0px 1px 2px rgba(60, 64, 67, 0.3), 0px 1px 3px 1px rgba(60, 64, 67, 0.15);\n",
              "      fill: #174EA6;\n",
              "    }\n",
              "\n",
              "    .colab-df-buttons div {\n",
              "      margin-bottom: 4px;\n",
              "    }\n",
              "\n",
              "    [theme=dark] .colab-df-convert {\n",
              "      background-color: #3B4455;\n",
              "      fill: #D2E3FC;\n",
              "    }\n",
              "\n",
              "    [theme=dark] .colab-df-convert:hover {\n",
              "      background-color: #434B5C;\n",
              "      box-shadow: 0px 1px 3px 1px rgba(0, 0, 0, 0.15);\n",
              "      filter: drop-shadow(0px 1px 2px rgba(0, 0, 0, 0.3));\n",
              "      fill: #FFFFFF;\n",
              "    }\n",
              "  </style>\n",
              "\n",
              "    <script>\n",
              "      const buttonEl =\n",
              "        document.querySelector('#df-816fd7e5-ac97-4d35-9edb-5a8bbec1d064 button.colab-df-convert');\n",
              "      buttonEl.style.display =\n",
              "        google.colab.kernel.accessAllowed ? 'block' : 'none';\n",
              "\n",
              "      async function convertToInteractive(key) {\n",
              "        const element = document.querySelector('#df-816fd7e5-ac97-4d35-9edb-5a8bbec1d064');\n",
              "        const dataTable =\n",
              "          await google.colab.kernel.invokeFunction('convertToInteractive',\n",
              "                                                    [key], {});\n",
              "        if (!dataTable) return;\n",
              "\n",
              "        const docLinkHtml = 'Like what you see? Visit the ' +\n",
              "          '<a target=\"_blank\" href=https://colab.research.google.com/notebooks/data_table.ipynb>data table notebook</a>'\n",
              "          + ' to learn more about interactive tables.';\n",
              "        element.innerHTML = '';\n",
              "        dataTable['output_type'] = 'display_data';\n",
              "        await google.colab.output.renderOutput(dataTable, element);\n",
              "        const docLink = document.createElement('div');\n",
              "        docLink.innerHTML = docLinkHtml;\n",
              "        element.appendChild(docLink);\n",
              "      }\n",
              "    </script>\n",
              "  </div>\n",
              "\n",
              "\n",
              "<div id=\"df-82a22a0b-b7b6-4a49-8ced-99bfb85c3fec\">\n",
              "  <button class=\"colab-df-quickchart\" onclick=\"quickchart('df-82a22a0b-b7b6-4a49-8ced-99bfb85c3fec')\"\n",
              "            title=\"Suggest charts\"\n",
              "            style=\"display:none;\">\n",
              "\n",
              "<svg xmlns=\"http://www.w3.org/2000/svg\" height=\"24px\"viewBox=\"0 0 24 24\"\n",
              "     width=\"24px\">\n",
              "    <g>\n",
              "        <path d=\"M19 3H5c-1.1 0-2 .9-2 2v14c0 1.1.9 2 2 2h14c1.1 0 2-.9 2-2V5c0-1.1-.9-2-2-2zM9 17H7v-7h2v7zm4 0h-2V7h2v10zm4 0h-2v-4h2v4z\"/>\n",
              "    </g>\n",
              "</svg>\n",
              "  </button>\n",
              "\n",
              "<style>\n",
              "  .colab-df-quickchart {\n",
              "      --bg-color: #E8F0FE;\n",
              "      --fill-color: #1967D2;\n",
              "      --hover-bg-color: #E2EBFA;\n",
              "      --hover-fill-color: #174EA6;\n",
              "      --disabled-fill-color: #AAA;\n",
              "      --disabled-bg-color: #DDD;\n",
              "  }\n",
              "\n",
              "  [theme=dark] .colab-df-quickchart {\n",
              "      --bg-color: #3B4455;\n",
              "      --fill-color: #D2E3FC;\n",
              "      --hover-bg-color: #434B5C;\n",
              "      --hover-fill-color: #FFFFFF;\n",
              "      --disabled-bg-color: #3B4455;\n",
              "      --disabled-fill-color: #666;\n",
              "  }\n",
              "\n",
              "  .colab-df-quickchart {\n",
              "    background-color: var(--bg-color);\n",
              "    border: none;\n",
              "    border-radius: 50%;\n",
              "    cursor: pointer;\n",
              "    display: none;\n",
              "    fill: var(--fill-color);\n",
              "    height: 32px;\n",
              "    padding: 0;\n",
              "    width: 32px;\n",
              "  }\n",
              "\n",
              "  .colab-df-quickchart:hover {\n",
              "    background-color: var(--hover-bg-color);\n",
              "    box-shadow: 0 1px 2px rgba(60, 64, 67, 0.3), 0 1px 3px 1px rgba(60, 64, 67, 0.15);\n",
              "    fill: var(--button-hover-fill-color);\n",
              "  }\n",
              "\n",
              "  .colab-df-quickchart-complete:disabled,\n",
              "  .colab-df-quickchart-complete:disabled:hover {\n",
              "    background-color: var(--disabled-bg-color);\n",
              "    fill: var(--disabled-fill-color);\n",
              "    box-shadow: none;\n",
              "  }\n",
              "\n",
              "  .colab-df-spinner {\n",
              "    border: 2px solid var(--fill-color);\n",
              "    border-color: transparent;\n",
              "    border-bottom-color: var(--fill-color);\n",
              "    animation:\n",
              "      spin 1s steps(1) infinite;\n",
              "  }\n",
              "\n",
              "  @keyframes spin {\n",
              "    0% {\n",
              "      border-color: transparent;\n",
              "      border-bottom-color: var(--fill-color);\n",
              "      border-left-color: var(--fill-color);\n",
              "    }\n",
              "    20% {\n",
              "      border-color: transparent;\n",
              "      border-left-color: var(--fill-color);\n",
              "      border-top-color: var(--fill-color);\n",
              "    }\n",
              "    30% {\n",
              "      border-color: transparent;\n",
              "      border-left-color: var(--fill-color);\n",
              "      border-top-color: var(--fill-color);\n",
              "      border-right-color: var(--fill-color);\n",
              "    }\n",
              "    40% {\n",
              "      border-color: transparent;\n",
              "      border-right-color: var(--fill-color);\n",
              "      border-top-color: var(--fill-color);\n",
              "    }\n",
              "    60% {\n",
              "      border-color: transparent;\n",
              "      border-right-color: var(--fill-color);\n",
              "    }\n",
              "    80% {\n",
              "      border-color: transparent;\n",
              "      border-right-color: var(--fill-color);\n",
              "      border-bottom-color: var(--fill-color);\n",
              "    }\n",
              "    90% {\n",
              "      border-color: transparent;\n",
              "      border-bottom-color: var(--fill-color);\n",
              "    }\n",
              "  }\n",
              "</style>\n",
              "\n",
              "  <script>\n",
              "    async function quickchart(key) {\n",
              "      const quickchartButtonEl =\n",
              "        document.querySelector('#' + key + ' button');\n",
              "      quickchartButtonEl.disabled = true;  // To prevent multiple clicks.\n",
              "      quickchartButtonEl.classList.add('colab-df-spinner');\n",
              "      try {\n",
              "        const charts = await google.colab.kernel.invokeFunction(\n",
              "            'suggestCharts', [key], {});\n",
              "      } catch (error) {\n",
              "        console.error('Error during call to suggestCharts:', error);\n",
              "      }\n",
              "      quickchartButtonEl.classList.remove('colab-df-spinner');\n",
              "      quickchartButtonEl.classList.add('colab-df-quickchart-complete');\n",
              "    }\n",
              "    (() => {\n",
              "      let quickchartButtonEl =\n",
              "        document.querySelector('#df-82a22a0b-b7b6-4a49-8ced-99bfb85c3fec button');\n",
              "      quickchartButtonEl.style.display =\n",
              "        google.colab.kernel.accessAllowed ? 'block' : 'none';\n",
              "    })();\n",
              "  </script>\n",
              "</div>\n",
              "\n",
              "  <div id=\"id_4c610a5a-7733-4e3d-ba11-bd7c8238387e\">\n",
              "    <style>\n",
              "      .colab-df-generate {\n",
              "        background-color: #E8F0FE;\n",
              "        border: none;\n",
              "        border-radius: 50%;\n",
              "        cursor: pointer;\n",
              "        display: none;\n",
              "        fill: #1967D2;\n",
              "        height: 32px;\n",
              "        padding: 0 0 0 0;\n",
              "        width: 32px;\n",
              "      }\n",
              "\n",
              "      .colab-df-generate:hover {\n",
              "        background-color: #E2EBFA;\n",
              "        box-shadow: 0px 1px 2px rgba(60, 64, 67, 0.3), 0px 1px 3px 1px rgba(60, 64, 67, 0.15);\n",
              "        fill: #174EA6;\n",
              "      }\n",
              "\n",
              "      [theme=dark] .colab-df-generate {\n",
              "        background-color: #3B4455;\n",
              "        fill: #D2E3FC;\n",
              "      }\n",
              "\n",
              "      [theme=dark] .colab-df-generate:hover {\n",
              "        background-color: #434B5C;\n",
              "        box-shadow: 0px 1px 3px 1px rgba(0, 0, 0, 0.15);\n",
              "        filter: drop-shadow(0px 1px 2px rgba(0, 0, 0, 0.3));\n",
              "        fill: #FFFFFF;\n",
              "      }\n",
              "    </style>\n",
              "    <button class=\"colab-df-generate\" onclick=\"generateWithVariable('tabelaang')\"\n",
              "            title=\"Generate code using this dataframe.\"\n",
              "            style=\"display:none;\">\n",
              "\n",
              "  <svg xmlns=\"http://www.w3.org/2000/svg\" height=\"24px\"viewBox=\"0 0 24 24\"\n",
              "       width=\"24px\">\n",
              "    <path d=\"M7,19H8.4L18.45,9,17,7.55,7,17.6ZM5,21V16.75L18.45,3.32a2,2,0,0,1,2.83,0l1.4,1.43a1.91,1.91,0,0,1,.58,1.4,1.91,1.91,0,0,1-.58,1.4L9.25,21ZM18.45,9,17,7.55Zm-12,3A5.31,5.31,0,0,0,4.9,8.1,5.31,5.31,0,0,0,1,6.5,5.31,5.31,0,0,0,4.9,4.9,5.31,5.31,0,0,0,6.5,1,5.31,5.31,0,0,0,8.1,4.9,5.31,5.31,0,0,0,12,6.5,5.46,5.46,0,0,0,6.5,12Z\"/>\n",
              "  </svg>\n",
              "    </button>\n",
              "    <script>\n",
              "      (() => {\n",
              "      const buttonEl =\n",
              "        document.querySelector('#id_4c610a5a-7733-4e3d-ba11-bd7c8238387e button.colab-df-generate');\n",
              "      buttonEl.style.display =\n",
              "        google.colab.kernel.accessAllowed ? 'block' : 'none';\n",
              "\n",
              "      buttonEl.onclick = () => {\n",
              "        google.colab.notebook.generateWithVariable('tabelaang');\n",
              "      }\n",
              "      })();\n",
              "    </script>\n",
              "  </div>\n",
              "\n",
              "    </div>\n",
              "  </div>\n"
            ],
            "application/vnd.google.colaboratory.intrinsic+json": {
              "type": "dataframe",
              "variable_name": "tabelaang",
              "summary": "{\n  \"name\": \"tabelaang\",\n  \"rows\": 4,\n  \"fields\": [\n    {\n      \"column\": \"GRAUS\",\n      \"properties\": {\n        \"dtype\": \"number\",\n        \"std\": 31,\n        \"min\": 21,\n        \"max\": 90,\n        \"num_unique_values\": 3,\n        \"samples\": [\n          90,\n          30,\n          21\n        ],\n        \"semantic_type\": \"\",\n        \"description\": \"\"\n      }\n    },\n    {\n      \"column\": \"MINUTOS\",\n      \"properties\": {\n        \"dtype\": \"number\",\n        \"std\": 0,\n        \"min\": 0,\n        \"max\": 0,\n        \"num_unique_values\": 1,\n        \"samples\": [\n          0\n        ],\n        \"semantic_type\": \"\",\n        \"description\": \"\"\n      }\n    },\n    {\n      \"column\": \"SEGUNDOS\",\n      \"properties\": {\n        \"dtype\": \"number\",\n        \"std\": 0.49916597106239785,\n        \"min\": 0.0,\n        \"max\": 1.0,\n        \"num_unique_values\": 4,\n        \"samples\": [\n          0.1\n        ],\n        \"semantic_type\": \"\",\n        \"description\": \"\"\n      }\n    }\n  ]\n}"
            }
          },
          "metadata": {}
        }
      ],
      "source": [
        "tabelaang = pd.read_csv('https://raw.githubusercontent.com/Melquizedek-dantas/EA1---2U---AO2/main/EA1%20-%202U%20-%20AO2%20-%20%C3%82ngulos%20-%20P%C3%A1gina1.csv',encoding='utf-8')\n",
        "display(tabelaang)"
      ]
    },
    {
      "cell_type": "code",
      "execution_count": 285,
      "metadata": {
        "colab": {
          "base_uri": "https://localhost:8080/",
          "height": 98
        },
        "id": "KOzA-02VsRQL",
        "outputId": "ac3be82d-0f75-434f-bd88-3e6f89968b46"
      },
      "outputs": [
        {
          "output_type": "execute_result",
          "data": {
            "text/plain": [
              "Matrix([\n",
              "[90.0, 0.0, 1.0],\n",
              "[30.0, 0.0, 0.1],\n",
              "[30.0, 0.0, 0.8],\n",
              "[21.0, 0.0, 0.0]])"
            ],
            "text/latex": "$\\displaystyle \\left[\\begin{matrix}90.0 & 0.0 & 1.0\\\\30.0 & 0.0 & 0.1\\\\30.0 & 0.0 & 0.8\\\\21.0 & 0.0 & 0.0\\end{matrix}\\right]$"
          },
          "metadata": {},
          "execution_count": 285
        }
      ],
      "source": [
        "AngGMS = tabelaang.to_numpy()\n",
        "AngGMS = sp.Matrix(AngGMS)\n",
        "AngGMS"
      ]
    },
    {
      "cell_type": "code",
      "execution_count": 286,
      "metadata": {
        "colab": {
          "base_uri": "https://localhost:8080/",
          "height": 98
        },
        "id": "syKFG6UGsm4d",
        "outputId": "c1af7136-5387-4ebd-f192-3b8048c81eef"
      },
      "outputs": [
        {
          "output_type": "execute_result",
          "data": {
            "text/plain": [
              "Matrix([\n",
              "[90.0002777777778],\n",
              "[30.0000277777778],\n",
              "[30.0002222222222],\n",
              "[            21.0]])"
            ],
            "text/latex": "$\\displaystyle \\left[\\begin{matrix}90.0002777777778\\\\30.0000277777778\\\\30.0002222222222\\\\21.0\\end{matrix}\\right]$"
          },
          "metadata": {},
          "execution_count": 286
        }
      ],
      "source": [
        "Ang1 = AngGMS[0,0]+(AngGMS[0,1]/60)+(AngGMS[0,2]/3600)\n",
        "Ang2 = AngGMS[1,0]+(AngGMS[1,1]/60)+(AngGMS[1,2]/3600)\n",
        "Ang3 = AngGMS[2,0]+(AngGMS[2,1]/60)+(AngGMS[2,2]/3600)\n",
        "Ang4 = AngGMS[3,0]+(AngGMS[3,1]/60)+(AngGMS[3,2]/3600)\n",
        "AngDec = sp.Matrix([[Ang1],[Ang2],[Ang3],[Ang4]])\n",
        "AngDec"
      ]
    },
    {
      "cell_type": "code",
      "execution_count": 287,
      "metadata": {
        "colab": {
          "base_uri": "https://localhost:8080/"
        },
        "id": "yofS-KLtVJTl",
        "outputId": "51241917-2e79-4e4d-d851-2ff687af6a63"
      },
      "outputs": [
        {
          "name": "stdout",
          "output_type": "stream",
          "text": [
            "Por favor, digite o valor do desvio padrão dos ângulos observados em segundos: 0.8\n"
          ]
        }
      ],
      "source": [
        "DesvPAngs = input('Por favor, digite o valor do desvio padrão dos ângulos observados em segundos: ')"
      ]
    },
    {
      "cell_type": "code",
      "execution_count": 288,
      "metadata": {
        "colab": {
          "base_uri": "https://localhost:8080/"
        },
        "id": "ze8f7sMZWifS",
        "outputId": "1f607ebc-07bf-4a37-c2e9-666fa1b07cff"
      },
      "outputs": [
        {
          "output_type": "execute_result",
          "data": {
            "text/plain": [
              "0.00022222222222222223"
            ]
          },
          "metadata": {},
          "execution_count": 288
        }
      ],
      "source": [
        "DesvPAngs = float(DesvPAngs)\n",
        "DesvPAngsDec = DesvPAngs/3600\n",
        "DesvPAngsDec"
      ]
    },
    {
      "cell_type": "markdown",
      "metadata": {
        "id": "3kWmr4jmUu8J"
      },
      "source": [
        "Distâncias"
      ]
    },
    {
      "cell_type": "code",
      "execution_count": 289,
      "metadata": {
        "colab": {
          "base_uri": "https://localhost:8080/",
          "height": 143
        },
        "id": "jOIH4LRimmzr",
        "outputId": "ab319f19-3b69-43f4-c084-d6ed2a16fddd"
      },
      "outputs": [
        {
          "output_type": "display_data",
          "data": {
            "text/plain": [
              "   Distâncias\n",
              "0    1000.000\n",
              "1    1000.005\n",
              "2    1000.010"
            ],
            "text/html": [
              "\n",
              "  <div id=\"df-5d0bae55-67a5-486e-b087-98e024f56544\" class=\"colab-df-container\">\n",
              "    <div>\n",
              "<style scoped>\n",
              "    .dataframe tbody tr th:only-of-type {\n",
              "        vertical-align: middle;\n",
              "    }\n",
              "\n",
              "    .dataframe tbody tr th {\n",
              "        vertical-align: top;\n",
              "    }\n",
              "\n",
              "    .dataframe thead th {\n",
              "        text-align: right;\n",
              "    }\n",
              "</style>\n",
              "<table border=\"1\" class=\"dataframe\">\n",
              "  <thead>\n",
              "    <tr style=\"text-align: right;\">\n",
              "      <th></th>\n",
              "      <th>Distâncias</th>\n",
              "    </tr>\n",
              "  </thead>\n",
              "  <tbody>\n",
              "    <tr>\n",
              "      <th>0</th>\n",
              "      <td>1000.000</td>\n",
              "    </tr>\n",
              "    <tr>\n",
              "      <th>1</th>\n",
              "      <td>1000.005</td>\n",
              "    </tr>\n",
              "    <tr>\n",
              "      <th>2</th>\n",
              "      <td>1000.010</td>\n",
              "    </tr>\n",
              "  </tbody>\n",
              "</table>\n",
              "</div>\n",
              "    <div class=\"colab-df-buttons\">\n",
              "\n",
              "  <div class=\"colab-df-container\">\n",
              "    <button class=\"colab-df-convert\" onclick=\"convertToInteractive('df-5d0bae55-67a5-486e-b087-98e024f56544')\"\n",
              "            title=\"Convert this dataframe to an interactive table.\"\n",
              "            style=\"display:none;\">\n",
              "\n",
              "  <svg xmlns=\"http://www.w3.org/2000/svg\" height=\"24px\" viewBox=\"0 -960 960 960\">\n",
              "    <path d=\"M120-120v-720h720v720H120Zm60-500h600v-160H180v160Zm220 220h160v-160H400v160Zm0 220h160v-160H400v160ZM180-400h160v-160H180v160Zm440 0h160v-160H620v160ZM180-180h160v-160H180v160Zm440 0h160v-160H620v160Z\"/>\n",
              "  </svg>\n",
              "    </button>\n",
              "\n",
              "  <style>\n",
              "    .colab-df-container {\n",
              "      display:flex;\n",
              "      gap: 12px;\n",
              "    }\n",
              "\n",
              "    .colab-df-convert {\n",
              "      background-color: #E8F0FE;\n",
              "      border: none;\n",
              "      border-radius: 50%;\n",
              "      cursor: pointer;\n",
              "      display: none;\n",
              "      fill: #1967D2;\n",
              "      height: 32px;\n",
              "      padding: 0 0 0 0;\n",
              "      width: 32px;\n",
              "    }\n",
              "\n",
              "    .colab-df-convert:hover {\n",
              "      background-color: #E2EBFA;\n",
              "      box-shadow: 0px 1px 2px rgba(60, 64, 67, 0.3), 0px 1px 3px 1px rgba(60, 64, 67, 0.15);\n",
              "      fill: #174EA6;\n",
              "    }\n",
              "\n",
              "    .colab-df-buttons div {\n",
              "      margin-bottom: 4px;\n",
              "    }\n",
              "\n",
              "    [theme=dark] .colab-df-convert {\n",
              "      background-color: #3B4455;\n",
              "      fill: #D2E3FC;\n",
              "    }\n",
              "\n",
              "    [theme=dark] .colab-df-convert:hover {\n",
              "      background-color: #434B5C;\n",
              "      box-shadow: 0px 1px 3px 1px rgba(0, 0, 0, 0.15);\n",
              "      filter: drop-shadow(0px 1px 2px rgba(0, 0, 0, 0.3));\n",
              "      fill: #FFFFFF;\n",
              "    }\n",
              "  </style>\n",
              "\n",
              "    <script>\n",
              "      const buttonEl =\n",
              "        document.querySelector('#df-5d0bae55-67a5-486e-b087-98e024f56544 button.colab-df-convert');\n",
              "      buttonEl.style.display =\n",
              "        google.colab.kernel.accessAllowed ? 'block' : 'none';\n",
              "\n",
              "      async function convertToInteractive(key) {\n",
              "        const element = document.querySelector('#df-5d0bae55-67a5-486e-b087-98e024f56544');\n",
              "        const dataTable =\n",
              "          await google.colab.kernel.invokeFunction('convertToInteractive',\n",
              "                                                    [key], {});\n",
              "        if (!dataTable) return;\n",
              "\n",
              "        const docLinkHtml = 'Like what you see? Visit the ' +\n",
              "          '<a target=\"_blank\" href=https://colab.research.google.com/notebooks/data_table.ipynb>data table notebook</a>'\n",
              "          + ' to learn more about interactive tables.';\n",
              "        element.innerHTML = '';\n",
              "        dataTable['output_type'] = 'display_data';\n",
              "        await google.colab.output.renderOutput(dataTable, element);\n",
              "        const docLink = document.createElement('div');\n",
              "        docLink.innerHTML = docLinkHtml;\n",
              "        element.appendChild(docLink);\n",
              "      }\n",
              "    </script>\n",
              "  </div>\n",
              "\n",
              "\n",
              "<div id=\"df-500b9e26-86ba-49d1-b816-20e8f6c61c92\">\n",
              "  <button class=\"colab-df-quickchart\" onclick=\"quickchart('df-500b9e26-86ba-49d1-b816-20e8f6c61c92')\"\n",
              "            title=\"Suggest charts\"\n",
              "            style=\"display:none;\">\n",
              "\n",
              "<svg xmlns=\"http://www.w3.org/2000/svg\" height=\"24px\"viewBox=\"0 0 24 24\"\n",
              "     width=\"24px\">\n",
              "    <g>\n",
              "        <path d=\"M19 3H5c-1.1 0-2 .9-2 2v14c0 1.1.9 2 2 2h14c1.1 0 2-.9 2-2V5c0-1.1-.9-2-2-2zM9 17H7v-7h2v7zm4 0h-2V7h2v10zm4 0h-2v-4h2v4z\"/>\n",
              "    </g>\n",
              "</svg>\n",
              "  </button>\n",
              "\n",
              "<style>\n",
              "  .colab-df-quickchart {\n",
              "      --bg-color: #E8F0FE;\n",
              "      --fill-color: #1967D2;\n",
              "      --hover-bg-color: #E2EBFA;\n",
              "      --hover-fill-color: #174EA6;\n",
              "      --disabled-fill-color: #AAA;\n",
              "      --disabled-bg-color: #DDD;\n",
              "  }\n",
              "\n",
              "  [theme=dark] .colab-df-quickchart {\n",
              "      --bg-color: #3B4455;\n",
              "      --fill-color: #D2E3FC;\n",
              "      --hover-bg-color: #434B5C;\n",
              "      --hover-fill-color: #FFFFFF;\n",
              "      --disabled-bg-color: #3B4455;\n",
              "      --disabled-fill-color: #666;\n",
              "  }\n",
              "\n",
              "  .colab-df-quickchart {\n",
              "    background-color: var(--bg-color);\n",
              "    border: none;\n",
              "    border-radius: 50%;\n",
              "    cursor: pointer;\n",
              "    display: none;\n",
              "    fill: var(--fill-color);\n",
              "    height: 32px;\n",
              "    padding: 0;\n",
              "    width: 32px;\n",
              "  }\n",
              "\n",
              "  .colab-df-quickchart:hover {\n",
              "    background-color: var(--hover-bg-color);\n",
              "    box-shadow: 0 1px 2px rgba(60, 64, 67, 0.3), 0 1px 3px 1px rgba(60, 64, 67, 0.15);\n",
              "    fill: var(--button-hover-fill-color);\n",
              "  }\n",
              "\n",
              "  .colab-df-quickchart-complete:disabled,\n",
              "  .colab-df-quickchart-complete:disabled:hover {\n",
              "    background-color: var(--disabled-bg-color);\n",
              "    fill: var(--disabled-fill-color);\n",
              "    box-shadow: none;\n",
              "  }\n",
              "\n",
              "  .colab-df-spinner {\n",
              "    border: 2px solid var(--fill-color);\n",
              "    border-color: transparent;\n",
              "    border-bottom-color: var(--fill-color);\n",
              "    animation:\n",
              "      spin 1s steps(1) infinite;\n",
              "  }\n",
              "\n",
              "  @keyframes spin {\n",
              "    0% {\n",
              "      border-color: transparent;\n",
              "      border-bottom-color: var(--fill-color);\n",
              "      border-left-color: var(--fill-color);\n",
              "    }\n",
              "    20% {\n",
              "      border-color: transparent;\n",
              "      border-left-color: var(--fill-color);\n",
              "      border-top-color: var(--fill-color);\n",
              "    }\n",
              "    30% {\n",
              "      border-color: transparent;\n",
              "      border-left-color: var(--fill-color);\n",
              "      border-top-color: var(--fill-color);\n",
              "      border-right-color: var(--fill-color);\n",
              "    }\n",
              "    40% {\n",
              "      border-color: transparent;\n",
              "      border-right-color: var(--fill-color);\n",
              "      border-top-color: var(--fill-color);\n",
              "    }\n",
              "    60% {\n",
              "      border-color: transparent;\n",
              "      border-right-color: var(--fill-color);\n",
              "    }\n",
              "    80% {\n",
              "      border-color: transparent;\n",
              "      border-right-color: var(--fill-color);\n",
              "      border-bottom-color: var(--fill-color);\n",
              "    }\n",
              "    90% {\n",
              "      border-color: transparent;\n",
              "      border-bottom-color: var(--fill-color);\n",
              "    }\n",
              "  }\n",
              "</style>\n",
              "\n",
              "  <script>\n",
              "    async function quickchart(key) {\n",
              "      const quickchartButtonEl =\n",
              "        document.querySelector('#' + key + ' button');\n",
              "      quickchartButtonEl.disabled = true;  // To prevent multiple clicks.\n",
              "      quickchartButtonEl.classList.add('colab-df-spinner');\n",
              "      try {\n",
              "        const charts = await google.colab.kernel.invokeFunction(\n",
              "            'suggestCharts', [key], {});\n",
              "      } catch (error) {\n",
              "        console.error('Error during call to suggestCharts:', error);\n",
              "      }\n",
              "      quickchartButtonEl.classList.remove('colab-df-spinner');\n",
              "      quickchartButtonEl.classList.add('colab-df-quickchart-complete');\n",
              "    }\n",
              "    (() => {\n",
              "      let quickchartButtonEl =\n",
              "        document.querySelector('#df-500b9e26-86ba-49d1-b816-20e8f6c61c92 button');\n",
              "      quickchartButtonEl.style.display =\n",
              "        google.colab.kernel.accessAllowed ? 'block' : 'none';\n",
              "    })();\n",
              "  </script>\n",
              "</div>\n",
              "\n",
              "  <div id=\"id_eb35509c-112f-45a2-8994-e481191deb90\">\n",
              "    <style>\n",
              "      .colab-df-generate {\n",
              "        background-color: #E8F0FE;\n",
              "        border: none;\n",
              "        border-radius: 50%;\n",
              "        cursor: pointer;\n",
              "        display: none;\n",
              "        fill: #1967D2;\n",
              "        height: 32px;\n",
              "        padding: 0 0 0 0;\n",
              "        width: 32px;\n",
              "      }\n",
              "\n",
              "      .colab-df-generate:hover {\n",
              "        background-color: #E2EBFA;\n",
              "        box-shadow: 0px 1px 2px rgba(60, 64, 67, 0.3), 0px 1px 3px 1px rgba(60, 64, 67, 0.15);\n",
              "        fill: #174EA6;\n",
              "      }\n",
              "\n",
              "      [theme=dark] .colab-df-generate {\n",
              "        background-color: #3B4455;\n",
              "        fill: #D2E3FC;\n",
              "      }\n",
              "\n",
              "      [theme=dark] .colab-df-generate:hover {\n",
              "        background-color: #434B5C;\n",
              "        box-shadow: 0px 1px 3px 1px rgba(0, 0, 0, 0.15);\n",
              "        filter: drop-shadow(0px 1px 2px rgba(0, 0, 0, 0.3));\n",
              "        fill: #FFFFFF;\n",
              "      }\n",
              "    </style>\n",
              "    <button class=\"colab-df-generate\" onclick=\"generateWithVariable('tabeladist')\"\n",
              "            title=\"Generate code using this dataframe.\"\n",
              "            style=\"display:none;\">\n",
              "\n",
              "  <svg xmlns=\"http://www.w3.org/2000/svg\" height=\"24px\"viewBox=\"0 0 24 24\"\n",
              "       width=\"24px\">\n",
              "    <path d=\"M7,19H8.4L18.45,9,17,7.55,7,17.6ZM5,21V16.75L18.45,3.32a2,2,0,0,1,2.83,0l1.4,1.43a1.91,1.91,0,0,1,.58,1.4,1.91,1.91,0,0,1-.58,1.4L9.25,21ZM18.45,9,17,7.55Zm-12,3A5.31,5.31,0,0,0,4.9,8.1,5.31,5.31,0,0,0,1,6.5,5.31,5.31,0,0,0,4.9,4.9,5.31,5.31,0,0,0,6.5,1,5.31,5.31,0,0,0,8.1,4.9,5.31,5.31,0,0,0,12,6.5,5.46,5.46,0,0,0,6.5,12Z\"/>\n",
              "  </svg>\n",
              "    </button>\n",
              "    <script>\n",
              "      (() => {\n",
              "      const buttonEl =\n",
              "        document.querySelector('#id_eb35509c-112f-45a2-8994-e481191deb90 button.colab-df-generate');\n",
              "      buttonEl.style.display =\n",
              "        google.colab.kernel.accessAllowed ? 'block' : 'none';\n",
              "\n",
              "      buttonEl.onclick = () => {\n",
              "        google.colab.notebook.generateWithVariable('tabeladist');\n",
              "      }\n",
              "      })();\n",
              "    </script>\n",
              "  </div>\n",
              "\n",
              "    </div>\n",
              "  </div>\n"
            ],
            "application/vnd.google.colaboratory.intrinsic+json": {
              "type": "dataframe",
              "variable_name": "tabeladist",
              "summary": "{\n  \"name\": \"tabeladist\",\n  \"rows\": 3,\n  \"fields\": [\n    {\n      \"column\": \"Dist\\u00e2ncias\",\n      \"properties\": {\n        \"dtype\": \"number\",\n        \"std\": 0.0049999999999954525,\n        \"min\": 1000.0,\n        \"max\": 1000.01,\n        \"num_unique_values\": 3,\n        \"samples\": [\n          1000.0,\n          1000.005,\n          1000.01\n        ],\n        \"semantic_type\": \"\",\n        \"description\": \"\"\n      }\n    }\n  ]\n}"
            }
          },
          "metadata": {}
        }
      ],
      "source": [
        "tabeladist = pd.read_csv('https://raw.githubusercontent.com/Melquizedek-dantas/EA1---2U---AO2/main/EA1%20-%202U%20-%20AO2%20-%20Dist%C3%A2ncias%20-%20P%C3%A1gina1.csv',encoding='utf-8')\n",
        "display(tabeladist)"
      ]
    },
    {
      "cell_type": "code",
      "execution_count": 290,
      "metadata": {
        "colab": {
          "base_uri": "https://localhost:8080/",
          "height": 78
        },
        "id": "PDcLuwQAuI3J",
        "outputId": "9049365d-ae4d-4b37-ede4-81a38e9a8b42"
      },
      "outputs": [
        {
          "output_type": "execute_result",
          "data": {
            "text/plain": [
              "Matrix([\n",
              "[  1000.0],\n",
              "[1000.005],\n",
              "[ 1000.01]])"
            ],
            "text/latex": "$\\displaystyle \\left[\\begin{matrix}1000.0\\\\1000.005\\\\1000.01\\end{matrix}\\right]$"
          },
          "metadata": {},
          "execution_count": 290
        }
      ],
      "source": [
        "Dist = tabeladist.to_numpy()\n",
        "Dist = sp.Matrix(Dist)\n",
        "Dist"
      ]
    },
    {
      "cell_type": "code",
      "execution_count": 291,
      "metadata": {
        "id": "JMCMhe2lV8u4",
        "colab": {
          "base_uri": "https://localhost:8080/"
        },
        "outputId": "ce292383-246e-418a-c208-020f92af2f25"
      },
      "outputs": [
        {
          "name": "stdout",
          "output_type": "stream",
          "text": [
            "Por favor, digite a componente do desvio padrão das distâncias em mm:5\n"
          ]
        }
      ],
      "source": [
        "DesvPDists1 = input('Por favor, digite a componente do desvio padrão das distâncias em mm:')"
      ]
    },
    {
      "cell_type": "code",
      "execution_count": 292,
      "metadata": {
        "id": "LQqFP5YUXbGM",
        "colab": {
          "base_uri": "https://localhost:8080/"
        },
        "outputId": "6b2fd26e-b5da-4161-e8fd-d5e04d53f8e3"
      },
      "outputs": [
        {
          "name": "stdout",
          "output_type": "stream",
          "text": [
            "Por favor, digite a componente do desvio padrão das distâncias em ppm:5\n"
          ]
        }
      ],
      "source": [
        "DesvPDists2 = input('Por favor, digite a componente do desvio padrão das distâncias em ppm:')"
      ]
    },
    {
      "cell_type": "code",
      "execution_count": 293,
      "metadata": {
        "id": "oShZMpm2fpRD",
        "colab": {
          "base_uri": "https://localhost:8080/"
        },
        "outputId": "6a515ee8-6aa0-4c6f-867f-f79dfde1503a"
      },
      "outputs": [
        {
          "output_type": "execute_result",
          "data": {
            "text/plain": [
              "0.01"
            ]
          },
          "metadata": {},
          "execution_count": 293
        }
      ],
      "source": [
        "DesvPDists2 = float(DesvPDists2)\n",
        "DesvPDists1 = float(DesvPDists1)\n",
        "DesvPDistsm = (DesvPDists1 + DesvPDists2)/1000\n",
        "DesvPDistsm"
      ]
    },
    {
      "cell_type": "markdown",
      "metadata": {
        "id": "UrpvHSYeU4GE"
      },
      "source": [
        "Ponto de Apoio (P1)"
      ]
    },
    {
      "cell_type": "code",
      "execution_count": 294,
      "metadata": {
        "id": "spIswqUon7YO",
        "colab": {
          "base_uri": "https://localhost:8080/",
          "height": 89
        },
        "outputId": "1610a0ab-de60-4602-f8d1-781e44c77526"
      },
      "outputs": [
        {
          "output_type": "display_data",
          "data": {
            "text/plain": [
              "   x de P1 (m)  y de P1 (m)\n",
              "0        10000        10000"
            ],
            "text/html": [
              "\n",
              "  <div id=\"df-a9e7df83-9506-4b85-8d13-15a7257be434\" class=\"colab-df-container\">\n",
              "    <div>\n",
              "<style scoped>\n",
              "    .dataframe tbody tr th:only-of-type {\n",
              "        vertical-align: middle;\n",
              "    }\n",
              "\n",
              "    .dataframe tbody tr th {\n",
              "        vertical-align: top;\n",
              "    }\n",
              "\n",
              "    .dataframe thead th {\n",
              "        text-align: right;\n",
              "    }\n",
              "</style>\n",
              "<table border=\"1\" class=\"dataframe\">\n",
              "  <thead>\n",
              "    <tr style=\"text-align: right;\">\n",
              "      <th></th>\n",
              "      <th>x de P1 (m)</th>\n",
              "      <th>y de P1 (m)</th>\n",
              "    </tr>\n",
              "  </thead>\n",
              "  <tbody>\n",
              "    <tr>\n",
              "      <th>0</th>\n",
              "      <td>10000</td>\n",
              "      <td>10000</td>\n",
              "    </tr>\n",
              "  </tbody>\n",
              "</table>\n",
              "</div>\n",
              "    <div class=\"colab-df-buttons\">\n",
              "\n",
              "  <div class=\"colab-df-container\">\n",
              "    <button class=\"colab-df-convert\" onclick=\"convertToInteractive('df-a9e7df83-9506-4b85-8d13-15a7257be434')\"\n",
              "            title=\"Convert this dataframe to an interactive table.\"\n",
              "            style=\"display:none;\">\n",
              "\n",
              "  <svg xmlns=\"http://www.w3.org/2000/svg\" height=\"24px\" viewBox=\"0 -960 960 960\">\n",
              "    <path d=\"M120-120v-720h720v720H120Zm60-500h600v-160H180v160Zm220 220h160v-160H400v160Zm0 220h160v-160H400v160ZM180-400h160v-160H180v160Zm440 0h160v-160H620v160ZM180-180h160v-160H180v160Zm440 0h160v-160H620v160Z\"/>\n",
              "  </svg>\n",
              "    </button>\n",
              "\n",
              "  <style>\n",
              "    .colab-df-container {\n",
              "      display:flex;\n",
              "      gap: 12px;\n",
              "    }\n",
              "\n",
              "    .colab-df-convert {\n",
              "      background-color: #E8F0FE;\n",
              "      border: none;\n",
              "      border-radius: 50%;\n",
              "      cursor: pointer;\n",
              "      display: none;\n",
              "      fill: #1967D2;\n",
              "      height: 32px;\n",
              "      padding: 0 0 0 0;\n",
              "      width: 32px;\n",
              "    }\n",
              "\n",
              "    .colab-df-convert:hover {\n",
              "      background-color: #E2EBFA;\n",
              "      box-shadow: 0px 1px 2px rgba(60, 64, 67, 0.3), 0px 1px 3px 1px rgba(60, 64, 67, 0.15);\n",
              "      fill: #174EA6;\n",
              "    }\n",
              "\n",
              "    .colab-df-buttons div {\n",
              "      margin-bottom: 4px;\n",
              "    }\n",
              "\n",
              "    [theme=dark] .colab-df-convert {\n",
              "      background-color: #3B4455;\n",
              "      fill: #D2E3FC;\n",
              "    }\n",
              "\n",
              "    [theme=dark] .colab-df-convert:hover {\n",
              "      background-color: #434B5C;\n",
              "      box-shadow: 0px 1px 3px 1px rgba(0, 0, 0, 0.15);\n",
              "      filter: drop-shadow(0px 1px 2px rgba(0, 0, 0, 0.3));\n",
              "      fill: #FFFFFF;\n",
              "    }\n",
              "  </style>\n",
              "\n",
              "    <script>\n",
              "      const buttonEl =\n",
              "        document.querySelector('#df-a9e7df83-9506-4b85-8d13-15a7257be434 button.colab-df-convert');\n",
              "      buttonEl.style.display =\n",
              "        google.colab.kernel.accessAllowed ? 'block' : 'none';\n",
              "\n",
              "      async function convertToInteractive(key) {\n",
              "        const element = document.querySelector('#df-a9e7df83-9506-4b85-8d13-15a7257be434');\n",
              "        const dataTable =\n",
              "          await google.colab.kernel.invokeFunction('convertToInteractive',\n",
              "                                                    [key], {});\n",
              "        if (!dataTable) return;\n",
              "\n",
              "        const docLinkHtml = 'Like what you see? Visit the ' +\n",
              "          '<a target=\"_blank\" href=https://colab.research.google.com/notebooks/data_table.ipynb>data table notebook</a>'\n",
              "          + ' to learn more about interactive tables.';\n",
              "        element.innerHTML = '';\n",
              "        dataTable['output_type'] = 'display_data';\n",
              "        await google.colab.output.renderOutput(dataTable, element);\n",
              "        const docLink = document.createElement('div');\n",
              "        docLink.innerHTML = docLinkHtml;\n",
              "        element.appendChild(docLink);\n",
              "      }\n",
              "    </script>\n",
              "  </div>\n",
              "\n",
              "\n",
              "  <div id=\"id_80f78a0a-0b49-4d5f-8b66-aa21319a50ea\">\n",
              "    <style>\n",
              "      .colab-df-generate {\n",
              "        background-color: #E8F0FE;\n",
              "        border: none;\n",
              "        border-radius: 50%;\n",
              "        cursor: pointer;\n",
              "        display: none;\n",
              "        fill: #1967D2;\n",
              "        height: 32px;\n",
              "        padding: 0 0 0 0;\n",
              "        width: 32px;\n",
              "      }\n",
              "\n",
              "      .colab-df-generate:hover {\n",
              "        background-color: #E2EBFA;\n",
              "        box-shadow: 0px 1px 2px rgba(60, 64, 67, 0.3), 0px 1px 3px 1px rgba(60, 64, 67, 0.15);\n",
              "        fill: #174EA6;\n",
              "      }\n",
              "\n",
              "      [theme=dark] .colab-df-generate {\n",
              "        background-color: #3B4455;\n",
              "        fill: #D2E3FC;\n",
              "      }\n",
              "\n",
              "      [theme=dark] .colab-df-generate:hover {\n",
              "        background-color: #434B5C;\n",
              "        box-shadow: 0px 1px 3px 1px rgba(0, 0, 0, 0.15);\n",
              "        filter: drop-shadow(0px 1px 2px rgba(0, 0, 0, 0.3));\n",
              "        fill: #FFFFFF;\n",
              "      }\n",
              "    </style>\n",
              "    <button class=\"colab-df-generate\" onclick=\"generateWithVariable('tabelaPapoio')\"\n",
              "            title=\"Generate code using this dataframe.\"\n",
              "            style=\"display:none;\">\n",
              "\n",
              "  <svg xmlns=\"http://www.w3.org/2000/svg\" height=\"24px\"viewBox=\"0 0 24 24\"\n",
              "       width=\"24px\">\n",
              "    <path d=\"M7,19H8.4L18.45,9,17,7.55,7,17.6ZM5,21V16.75L18.45,3.32a2,2,0,0,1,2.83,0l1.4,1.43a1.91,1.91,0,0,1,.58,1.4,1.91,1.91,0,0,1-.58,1.4L9.25,21ZM18.45,9,17,7.55Zm-12,3A5.31,5.31,0,0,0,4.9,8.1,5.31,5.31,0,0,0,1,6.5,5.31,5.31,0,0,0,4.9,4.9,5.31,5.31,0,0,0,6.5,1,5.31,5.31,0,0,0,8.1,4.9,5.31,5.31,0,0,0,12,6.5,5.46,5.46,0,0,0,6.5,12Z\"/>\n",
              "  </svg>\n",
              "    </button>\n",
              "    <script>\n",
              "      (() => {\n",
              "      const buttonEl =\n",
              "        document.querySelector('#id_80f78a0a-0b49-4d5f-8b66-aa21319a50ea button.colab-df-generate');\n",
              "      buttonEl.style.display =\n",
              "        google.colab.kernel.accessAllowed ? 'block' : 'none';\n",
              "\n",
              "      buttonEl.onclick = () => {\n",
              "        google.colab.notebook.generateWithVariable('tabelaPapoio');\n",
              "      }\n",
              "      })();\n",
              "    </script>\n",
              "  </div>\n",
              "\n",
              "    </div>\n",
              "  </div>\n"
            ],
            "application/vnd.google.colaboratory.intrinsic+json": {
              "type": "dataframe",
              "variable_name": "tabelaPapoio",
              "summary": "{\n  \"name\": \"tabelaPapoio\",\n  \"rows\": 1,\n  \"fields\": [\n    {\n      \"column\": \"x de P1 (m)\",\n      \"properties\": {\n        \"dtype\": \"number\",\n        \"std\": null,\n        \"min\": 10000,\n        \"max\": 10000,\n        \"num_unique_values\": 1,\n        \"samples\": [\n          10000\n        ],\n        \"semantic_type\": \"\",\n        \"description\": \"\"\n      }\n    },\n    {\n      \"column\": \"y de P1 (m)\",\n      \"properties\": {\n        \"dtype\": \"number\",\n        \"std\": null,\n        \"min\": 10000,\n        \"max\": 10000,\n        \"num_unique_values\": 1,\n        \"samples\": [\n          10000\n        ],\n        \"semantic_type\": \"\",\n        \"description\": \"\"\n      }\n    }\n  ]\n}"
            }
          },
          "metadata": {}
        }
      ],
      "source": [
        "tabelaPapoio = pd.read_csv('https://raw.githubusercontent.com/Melquizedek-dantas/EA1---2U---AO2/main/EA1%20-%202U%20-%20AO2%20-%20Ponto%20de%20apoio%20-%20P%C3%A1gina1.csv',encoding='utf-8')\n",
        "display(tabelaPapoio)"
      ]
    },
    {
      "cell_type": "code",
      "execution_count": 295,
      "metadata": {
        "id": "hHwD0OM0ua4q",
        "colab": {
          "base_uri": "https://localhost:8080/",
          "height": 38
        },
        "outputId": "8bb846bd-2c4a-4351-b882-5222180414d2"
      },
      "outputs": [
        {
          "output_type": "execute_result",
          "data": {
            "text/plain": [
              "Matrix([[10000, 10000]])"
            ],
            "text/latex": "$\\displaystyle \\left[\\begin{matrix}10000 & 10000\\end{matrix}\\right]$"
          },
          "metadata": {},
          "execution_count": 295
        }
      ],
      "source": [
        "Papoio = tabelaPapoio.to_numpy()\n",
        "Papoio = sp.Matrix(Papoio)\n",
        "Papoio"
      ]
    },
    {
      "cell_type": "markdown",
      "metadata": {
        "id": "rAlWOQzTU9Xc"
      },
      "source": [
        "Azimute Fixo da Linha 1-A"
      ]
    },
    {
      "cell_type": "code",
      "execution_count": 296,
      "metadata": {
        "id": "0UUieGjuocnv",
        "colab": {
          "base_uri": "https://localhost:8080/",
          "height": 89
        },
        "outputId": "3f8d7136-9a95-4f1e-bef8-38b34da5e6c9"
      },
      "outputs": [
        {
          "output_type": "display_data",
          "data": {
            "text/plain": [
              "   GRAUS  MINUTOS  SEGUNDOS\n",
              "0    315        0         0"
            ],
            "text/html": [
              "\n",
              "  <div id=\"df-abd07b24-53f9-4626-b9e8-b49dddaaafb3\" class=\"colab-df-container\">\n",
              "    <div>\n",
              "<style scoped>\n",
              "    .dataframe tbody tr th:only-of-type {\n",
              "        vertical-align: middle;\n",
              "    }\n",
              "\n",
              "    .dataframe tbody tr th {\n",
              "        vertical-align: top;\n",
              "    }\n",
              "\n",
              "    .dataframe thead th {\n",
              "        text-align: right;\n",
              "    }\n",
              "</style>\n",
              "<table border=\"1\" class=\"dataframe\">\n",
              "  <thead>\n",
              "    <tr style=\"text-align: right;\">\n",
              "      <th></th>\n",
              "      <th>GRAUS</th>\n",
              "      <th>MINUTOS</th>\n",
              "      <th>SEGUNDOS</th>\n",
              "    </tr>\n",
              "  </thead>\n",
              "  <tbody>\n",
              "    <tr>\n",
              "      <th>0</th>\n",
              "      <td>315</td>\n",
              "      <td>0</td>\n",
              "      <td>0</td>\n",
              "    </tr>\n",
              "  </tbody>\n",
              "</table>\n",
              "</div>\n",
              "    <div class=\"colab-df-buttons\">\n",
              "\n",
              "  <div class=\"colab-df-container\">\n",
              "    <button class=\"colab-df-convert\" onclick=\"convertToInteractive('df-abd07b24-53f9-4626-b9e8-b49dddaaafb3')\"\n",
              "            title=\"Convert this dataframe to an interactive table.\"\n",
              "            style=\"display:none;\">\n",
              "\n",
              "  <svg xmlns=\"http://www.w3.org/2000/svg\" height=\"24px\" viewBox=\"0 -960 960 960\">\n",
              "    <path d=\"M120-120v-720h720v720H120Zm60-500h600v-160H180v160Zm220 220h160v-160H400v160Zm0 220h160v-160H400v160ZM180-400h160v-160H180v160Zm440 0h160v-160H620v160ZM180-180h160v-160H180v160Zm440 0h160v-160H620v160Z\"/>\n",
              "  </svg>\n",
              "    </button>\n",
              "\n",
              "  <style>\n",
              "    .colab-df-container {\n",
              "      display:flex;\n",
              "      gap: 12px;\n",
              "    }\n",
              "\n",
              "    .colab-df-convert {\n",
              "      background-color: #E8F0FE;\n",
              "      border: none;\n",
              "      border-radius: 50%;\n",
              "      cursor: pointer;\n",
              "      display: none;\n",
              "      fill: #1967D2;\n",
              "      height: 32px;\n",
              "      padding: 0 0 0 0;\n",
              "      width: 32px;\n",
              "    }\n",
              "\n",
              "    .colab-df-convert:hover {\n",
              "      background-color: #E2EBFA;\n",
              "      box-shadow: 0px 1px 2px rgba(60, 64, 67, 0.3), 0px 1px 3px 1px rgba(60, 64, 67, 0.15);\n",
              "      fill: #174EA6;\n",
              "    }\n",
              "\n",
              "    .colab-df-buttons div {\n",
              "      margin-bottom: 4px;\n",
              "    }\n",
              "\n",
              "    [theme=dark] .colab-df-convert {\n",
              "      background-color: #3B4455;\n",
              "      fill: #D2E3FC;\n",
              "    }\n",
              "\n",
              "    [theme=dark] .colab-df-convert:hover {\n",
              "      background-color: #434B5C;\n",
              "      box-shadow: 0px 1px 3px 1px rgba(0, 0, 0, 0.15);\n",
              "      filter: drop-shadow(0px 1px 2px rgba(0, 0, 0, 0.3));\n",
              "      fill: #FFFFFF;\n",
              "    }\n",
              "  </style>\n",
              "\n",
              "    <script>\n",
              "      const buttonEl =\n",
              "        document.querySelector('#df-abd07b24-53f9-4626-b9e8-b49dddaaafb3 button.colab-df-convert');\n",
              "      buttonEl.style.display =\n",
              "        google.colab.kernel.accessAllowed ? 'block' : 'none';\n",
              "\n",
              "      async function convertToInteractive(key) {\n",
              "        const element = document.querySelector('#df-abd07b24-53f9-4626-b9e8-b49dddaaafb3');\n",
              "        const dataTable =\n",
              "          await google.colab.kernel.invokeFunction('convertToInteractive',\n",
              "                                                    [key], {});\n",
              "        if (!dataTable) return;\n",
              "\n",
              "        const docLinkHtml = 'Like what you see? Visit the ' +\n",
              "          '<a target=\"_blank\" href=https://colab.research.google.com/notebooks/data_table.ipynb>data table notebook</a>'\n",
              "          + ' to learn more about interactive tables.';\n",
              "        element.innerHTML = '';\n",
              "        dataTable['output_type'] = 'display_data';\n",
              "        await google.colab.output.renderOutput(dataTable, element);\n",
              "        const docLink = document.createElement('div');\n",
              "        docLink.innerHTML = docLinkHtml;\n",
              "        element.appendChild(docLink);\n",
              "      }\n",
              "    </script>\n",
              "  </div>\n",
              "\n",
              "\n",
              "  <div id=\"id_ecd16e35-8581-458a-a978-3f11906b240f\">\n",
              "    <style>\n",
              "      .colab-df-generate {\n",
              "        background-color: #E8F0FE;\n",
              "        border: none;\n",
              "        border-radius: 50%;\n",
              "        cursor: pointer;\n",
              "        display: none;\n",
              "        fill: #1967D2;\n",
              "        height: 32px;\n",
              "        padding: 0 0 0 0;\n",
              "        width: 32px;\n",
              "      }\n",
              "\n",
              "      .colab-df-generate:hover {\n",
              "        background-color: #E2EBFA;\n",
              "        box-shadow: 0px 1px 2px rgba(60, 64, 67, 0.3), 0px 1px 3px 1px rgba(60, 64, 67, 0.15);\n",
              "        fill: #174EA6;\n",
              "      }\n",
              "\n",
              "      [theme=dark] .colab-df-generate {\n",
              "        background-color: #3B4455;\n",
              "        fill: #D2E3FC;\n",
              "      }\n",
              "\n",
              "      [theme=dark] .colab-df-generate:hover {\n",
              "        background-color: #434B5C;\n",
              "        box-shadow: 0px 1px 3px 1px rgba(0, 0, 0, 0.15);\n",
              "        filter: drop-shadow(0px 1px 2px rgba(0, 0, 0, 0.3));\n",
              "        fill: #FFFFFF;\n",
              "      }\n",
              "    </style>\n",
              "    <button class=\"colab-df-generate\" onclick=\"generateWithVariable('tabelaAziFixL1A')\"\n",
              "            title=\"Generate code using this dataframe.\"\n",
              "            style=\"display:none;\">\n",
              "\n",
              "  <svg xmlns=\"http://www.w3.org/2000/svg\" height=\"24px\"viewBox=\"0 0 24 24\"\n",
              "       width=\"24px\">\n",
              "    <path d=\"M7,19H8.4L18.45,9,17,7.55,7,17.6ZM5,21V16.75L18.45,3.32a2,2,0,0,1,2.83,0l1.4,1.43a1.91,1.91,0,0,1,.58,1.4,1.91,1.91,0,0,1-.58,1.4L9.25,21ZM18.45,9,17,7.55Zm-12,3A5.31,5.31,0,0,0,4.9,8.1,5.31,5.31,0,0,0,1,6.5,5.31,5.31,0,0,0,4.9,4.9,5.31,5.31,0,0,0,6.5,1,5.31,5.31,0,0,0,8.1,4.9,5.31,5.31,0,0,0,12,6.5,5.46,5.46,0,0,0,6.5,12Z\"/>\n",
              "  </svg>\n",
              "    </button>\n",
              "    <script>\n",
              "      (() => {\n",
              "      const buttonEl =\n",
              "        document.querySelector('#id_ecd16e35-8581-458a-a978-3f11906b240f button.colab-df-generate');\n",
              "      buttonEl.style.display =\n",
              "        google.colab.kernel.accessAllowed ? 'block' : 'none';\n",
              "\n",
              "      buttonEl.onclick = () => {\n",
              "        google.colab.notebook.generateWithVariable('tabelaAziFixL1A');\n",
              "      }\n",
              "      })();\n",
              "    </script>\n",
              "  </div>\n",
              "\n",
              "    </div>\n",
              "  </div>\n"
            ],
            "application/vnd.google.colaboratory.intrinsic+json": {
              "type": "dataframe",
              "variable_name": "tabelaAziFixL1A",
              "summary": "{\n  \"name\": \"tabelaAziFixL1A\",\n  \"rows\": 1,\n  \"fields\": [\n    {\n      \"column\": \"GRAUS\",\n      \"properties\": {\n        \"dtype\": \"number\",\n        \"std\": null,\n        \"min\": 315,\n        \"max\": 315,\n        \"num_unique_values\": 1,\n        \"samples\": [\n          315\n        ],\n        \"semantic_type\": \"\",\n        \"description\": \"\"\n      }\n    },\n    {\n      \"column\": \"MINUTOS\",\n      \"properties\": {\n        \"dtype\": \"number\",\n        \"std\": null,\n        \"min\": 0,\n        \"max\": 0,\n        \"num_unique_values\": 1,\n        \"samples\": [\n          0\n        ],\n        \"semantic_type\": \"\",\n        \"description\": \"\"\n      }\n    },\n    {\n      \"column\": \"SEGUNDOS\",\n      \"properties\": {\n        \"dtype\": \"number\",\n        \"std\": null,\n        \"min\": 0,\n        \"max\": 0,\n        \"num_unique_values\": 1,\n        \"samples\": [\n          0\n        ],\n        \"semantic_type\": \"\",\n        \"description\": \"\"\n      }\n    }\n  ]\n}"
            }
          },
          "metadata": {}
        }
      ],
      "source": [
        "tabelaAziFixL1A = pd.read_csv('https://raw.githubusercontent.com/Melquizedek-dantas/EA1---2U---AO2/main/EA1%20-%202U%20-%20AO2%20-%20Azimute%20Fixo%20da%20Linha%201-A%20-%20P%C3%A1gina1.csv',encoding='utf-8')\n",
        "display(tabelaAziFixL1A)"
      ]
    },
    {
      "cell_type": "code",
      "execution_count": 297,
      "metadata": {
        "id": "KxflBKZmuz1h",
        "colab": {
          "base_uri": "https://localhost:8080/",
          "height": 38
        },
        "outputId": "31efc55b-ed82-47f0-cf42-8f41bf141b4f"
      },
      "outputs": [
        {
          "output_type": "execute_result",
          "data": {
            "text/plain": [
              "Matrix([[315, 0, 0]])"
            ],
            "text/latex": "$\\displaystyle \\left[\\begin{matrix}315 & 0 & 0\\end{matrix}\\right]$"
          },
          "metadata": {},
          "execution_count": 297
        }
      ],
      "source": [
        "AziL1AGMS = tabelaAziFixL1A.to_numpy()\n",
        "AziL1AGMS = sp.Matrix(AziL1AGMS)\n",
        "AziL1AGMS"
      ]
    },
    {
      "cell_type": "code",
      "execution_count": 298,
      "metadata": {
        "id": "MjX6kp8GvThf",
        "colab": {
          "base_uri": "https://localhost:8080/",
          "height": 37
        },
        "outputId": "0bf72946-ebde-43e1-823f-6713fa8ccab2"
      },
      "outputs": [
        {
          "output_type": "execute_result",
          "data": {
            "text/plain": [
              "315"
            ],
            "text/latex": "$\\displaystyle 315$"
          },
          "metadata": {},
          "execution_count": 298
        }
      ],
      "source": [
        "AziL1ADec = AziL1AGMS[0,0]+(AziL1AGMS[0,1]/60)+(AziL1AGMS[0,2]/3600)\n",
        "AziL1ADec"
      ]
    },
    {
      "cell_type": "markdown",
      "source": [
        "Azimutes Provisórios"
      ],
      "metadata": {
        "id": "QtLsfs84oncm"
      }
    },
    {
      "cell_type": "code",
      "execution_count": 299,
      "metadata": {
        "id": "Whc8kptFTQ7t",
        "colab": {
          "base_uri": "https://localhost:8080/",
          "height": 98
        },
        "outputId": "76d9e85e-a3c8-4917-b673-585f31f0b6b5"
      },
      "outputs": [
        {
          "output_type": "execute_result",
          "data": {
            "text/plain": [
              "Matrix([\n",
              "[ 45, 0,   1],\n",
              "[165, 0, 1.1],\n",
              "[285, 0, 1.9],\n",
              "[315, 0, 1.9]])"
            ],
            "text/latex": "$\\displaystyle \\left[\\begin{matrix}45 & 0 & 1\\\\165 & 0 & 1.1\\\\285 & 0 & 1.9\\\\315 & 0 & 1.9\\end{matrix}\\right]$"
          },
          "metadata": {},
          "execution_count": 299
        }
      ],
      "source": [
        "AziGMS = sp.Matrix([[45,0,1],[165,0,1.1],[285,0,1.9],[315,0,1.9]])\n",
        "AziGMS"
      ]
    },
    {
      "cell_type": "code",
      "source": [
        "desvPazi = 1.9\n",
        "desvPazi"
      ],
      "metadata": {
        "colab": {
          "base_uri": "https://localhost:8080/"
        },
        "id": "2tplrBVhsdE7",
        "outputId": "8b028ddc-6092-4c76-9763-9e132b01c6c7"
      },
      "execution_count": 300,
      "outputs": [
        {
          "output_type": "execute_result",
          "data": {
            "text/plain": [
              "1.9"
            ]
          },
          "metadata": {},
          "execution_count": 300
        }
      ]
    },
    {
      "cell_type": "code",
      "execution_count": 301,
      "metadata": {
        "id": "18T7VJ0kb9aH",
        "colab": {
          "base_uri": "https://localhost:8080/",
          "height": 78
        },
        "outputId": "57af7ac1-cdd2-488c-8c7f-23742b050a21"
      },
      "outputs": [
        {
          "output_type": "execute_result",
          "data": {
            "text/plain": [
              "Matrix([\n",
              "[     162001/3600],\n",
              "[165.000305555556],\n",
              "[285.000527777778]])"
            ],
            "text/latex": "$\\displaystyle \\left[\\begin{matrix}\\frac{162001}{3600}\\\\165.000305555556\\\\285.000527777778\\end{matrix}\\right]$"
          },
          "metadata": {},
          "execution_count": 301
        }
      ],
      "source": [
        "AziDec1 = AziGMS[0,0]+(AziGMS[0,1]/60)+(AziGMS[0,2]/3600)\n",
        "AziDec2 = AziGMS[1,0]+(AziGMS[1,1]/60)+(AziGMS[1,2]/3600)\n",
        "AziDec3 = AziGMS[2,0]+(AziGMS[2,1]/60)+(AziGMS[2,2]/3600)\n",
        "AziDec = sp.Matrix([[AziDec1],[AziDec2],[AziDec3]])\n",
        "AziDec"
      ]
    },
    {
      "cell_type": "code",
      "source": [
        "desvPazidec = desvPazi/3600\n",
        "desvPazidec"
      ],
      "metadata": {
        "colab": {
          "base_uri": "https://localhost:8080/"
        },
        "id": "UKnOHuSesq9e",
        "outputId": "b690c002-2524-472c-dcc7-80cdadabc4d1"
      },
      "execution_count": 302,
      "outputs": [
        {
          "output_type": "execute_result",
          "data": {
            "text/plain": [
              "0.0005277777777777777"
            ]
          },
          "metadata": {},
          "execution_count": 302
        }
      ]
    },
    {
      "cell_type": "code",
      "source": [
        "Azirad = (mt.pi/180)*AziDec\n",
        "Azirad"
      ],
      "metadata": {
        "colab": {
          "base_uri": "https://localhost:8080/",
          "height": 78
        },
        "id": "rhjudGbmmdsT",
        "outputId": "5072a5f7-dcd2-4060-a56e-eba608804adc"
      },
      "execution_count": 303,
      "outputs": [
        {
          "output_type": "execute_result",
          "data": {
            "text/plain": [
              "Matrix([\n",
              "[0.785403011534259],\n",
              "[ 2.87979859874114],\n",
              "[ 4.97419757964378]])"
            ],
            "text/latex": "$\\displaystyle \\left[\\begin{matrix}0.785403011534259\\\\2.87979859874114\\\\4.97419757964378\\end{matrix}\\right]$"
          },
          "metadata": {},
          "execution_count": 303
        }
      ]
    },
    {
      "cell_type": "code",
      "source": [
        "desvPazirad = (mt.pi/180)*desvPazidec\n",
        "desvPazirad"
      ],
      "metadata": {
        "colab": {
          "base_uri": "https://localhost:8080/"
        },
        "id": "-70gxVXgsygn",
        "outputId": "4286aef0-7d03-45c0-bd86-0d4c1c68c3d4"
      },
      "execution_count": 304,
      "outputs": [
        {
          "output_type": "execute_result",
          "data": {
            "text/plain": [
              "9.211459941081183e-06"
            ]
          },
          "metadata": {},
          "execution_count": 304
        }
      ]
    },
    {
      "cell_type": "markdown",
      "metadata": {
        "id": "7YHorMQKWskP"
      },
      "source": [
        "## Derivação das Equações Normais para Ajuste de Poligonal Fechada\n",
        "\n",
        "### Dados Observados\n",
        "Incluem ângulos e distâncias observados, com suas respectivas precisões.\n",
        "\n",
        "\n",
        "### Passo 2: Construir a Matriz de Pesos $P$\n",
        "A matriz $P$ é diagonal, onde cada elemento é o inverso do quadrado do desvio padrão da observação correspondente:\n",
        "$$ P = \\text{diag} \\left( \\frac{1}{\\sigma_{\\theta}^2}, \\frac{1}{\\sigma_{\\theta}^2}, \\frac{1}{\\sigma_{\\theta}^2}, \\frac{1}{\\sigma_{\\theta}^2}, \\frac{1}{\\sigma_S^2}, \\frac{1}{\\sigma_S^2}, \\frac{1}{\\sigma_S^2} \\right) $$\n",
        "onde:\n",
        "- $ \\sigma_{\\theta} = 0.8\" $ (convertido para graus se necessário)\n",
        "- $ \\sigma_S = 5 \\, \\text{mm} + 5 \\, \\text{ppm de} \\, S_{ik} $\n",
        "\n",
        "### Passo 3: Construir a Matriz de Design $A$\n",
        "Inclui coeficientes para o fechamento angular e linear:\n",
        "\\[ A = \\begin{bmatrix}\n",
        "1 & 1 & 1 & 1 & 0 & 0 & 0 \\\\\n",
        "0 & 0 & 0 & 0 & \\cos(\\alpha_{12}) & \\cos(\\alpha_{23}) & \\cos(\\alpha_{31}) \\\\\n",
        "0 & 0 & 0 & 0 & \\sin(\\alpha_{12}) & \\sin(\\alpha_{23}) & \\sin(\\alpha_{31})\n",
        "\\end{bmatrix} \\\n",
        "\n",
        "### Passo 4: Formular as Equações Normais\n",
        "$$ A^T P A X = A^T P L $$\n",
        "- $ A^T P A $ representa as inter-relações ponderadas das correções.\n",
        "- $ A^T P L $ é o produto das matrizes transposta de $A$, de pesos $P$, e o vetor de observações $L$, formando o lado direito do sistema.\n",
        "\n",
        "#### Estrutura da Matriz A\n",
        "\n",
        "| Equações de Condição         | $v_1$ | $v_2$ | $v_3$ | $v_4$ | $v_{d12,x}$ | $v_{d23,x}$ | $v_{d34,x}$ | $v_{d41,x}$ | $v_{d12,y}$ | $v_{d23,y}$ | $v_{d34,y}$ | $v_{d41,y}$ |\n",
        "|------------------------------|-------|-------|-------|-------|-------------|-------------|-------------|-------------|-------------|-------------|-------------|-------------|\n",
        "| Fechamento Angular           | 1     | 1     | 1     | 1     | 0           | 0           | 0           | 0           | 0           | 0           | 0           | 0           |\n",
        "| Fechamento Linear Horizontal | 0     | 0     | 0     | 0     | $\\cos(\\alpha_{12})$ | $\\cos(\\alpha_{23})$ | $\\cos(\\alpha_{34})$ | $\\cos(\\alpha_{41})$ | 0           | 0           | 0           | 0           |\n",
        "| Fechamento Linear Vertical   | 0     | 0     | 0     | 0     | 0           | 0           | 0           | 0           | $\\sin(\\alpha_{12})$ | $\\sin(\\alpha_{23})$ | $\\sin(\\alpha_{34})$ | $\\sin(\\alpha_{41})$ |\n",
        "\n",
        "https://1drv.ms/x/s!AjO4oAHV5BZuqLtPo9f8fsm3RX0zgA?e=yL4IzC\n",
        "### Notas\n",
        "\n",
        "- **$v_1, v_2, v_3, v_4$**: Correções angulares aplicadas aos ângulos observados.\n",
        "- **$v_{dij,x}$**: Correções aplicadas à componente horizontal ($x$) das distâncias observadas entre os pontos $i$ e $j$.\n",
        "- **$v_{dij,y}$**: Correções aplicadas à componente vertical ($y$) das distâncias observadas entre os pontos $i$ e $j$.\n",
        "\n",
        "Este exemplo foi simplificado para demonstração. As entradas específicas da matriz dependem dos detalhes do levantamento e das observações feitas.\n",
        "\n",
        "### Passo 5: Solução do Sistema\n",
        "Este sistema é resolvido para encontrar $X$, as correções para as observações iniciais.\n",
        "\n",
        "\n"
      ]
    },
    {
      "cell_type": "markdown",
      "metadata": {
        "id": "jmcjxVBcW3Uv"
      },
      "source": [
        "### Passo 1: Construir o Vetor de Observações $L$\n",
        "O vetor $L$ compreende os ângulos e distâncias observados:\n",
        "$$ L = [\\theta_1, \\theta_2, \\theta_3, \\theta_4, S_{12}, S_{23}, S_{31}]^T $$\n"
      ]
    },
    {
      "cell_type": "code",
      "execution_count": 305,
      "metadata": {
        "id": "ATsBuPmOHmJn"
      },
      "outputs": [],
      "source": [
        "Lb = sp.Matrix([AngDec[0],AngDec[1],AngDec[2],AngDec[3],Dist[0],Dist[1],Dist[2]])"
      ]
    },
    {
      "cell_type": "markdown",
      "source": [
        "Vetor $P$"
      ],
      "metadata": {
        "id": "RZLxyK3hB6A4"
      }
    },
    {
      "cell_type": "code",
      "source": [
        "pvalor = np.array([1/DesvPAngsDec,1/DesvPAngsDec,1/DesvPAngsDec,1/DesvPAngsDec,1/DesvPDistsm,1/DesvPDistsm,1/DesvPDistsm])\n",
        "pident = np.eye(7)\n",
        "P = pvalor*pident\n",
        "P = sp.Matrix(P)"
      ],
      "metadata": {
        "id": "lQOHJbLVB4dp"
      },
      "execution_count": 306,
      "outputs": []
    },
    {
      "cell_type": "markdown",
      "metadata": {
        "id": "Zb3oXMNUH1JV"
      },
      "source": [
        "## Passo 2: Formulação das Equações de Condição"
      ]
    },
    {
      "cell_type": "markdown",
      "metadata": {
        "id": "YrstSF95JRVq"
      },
      "source": [
        "\n",
        "\n",
        "> **\" Explicação\"**\n",
        "\n",
        "\n",
        "\n",
        "As equações de condição refletem as restrições geométricas ou de fechamento da poligonal. Estas restrições podem ser de diferentes tipos, dependendo da natureza da poligonal (aberta ou fechada). Para uma poligonal fechada, as restrições comuns incluem:\n",
        "\n",
        "- **Fechamento Angular:** A soma dos ângulos internos deve ser igual a um valor teórico específico, geralmente dado por $(n-2) \\times 180^\\circ$, onde $n$ é o número de vértices na poligonal fechada.\n",
        "  \n",
        " $ \\sum (\\theta_i + v_{\\theta_i}) = (n-2) \\times 180^\\circ $\n",
        "  \n",
        "  Onde \\(\\theta_i\\) representa os ângulos medidos e \\(v_{\\theta_i}\\) são as correções angulares a serem aplicadas.\n",
        "\n",
        "- **Fechamento Linear:** As projeções das distâncias medidas ao longo dos eixos horizontal e vertical devem fechar no ponto de partida.\n",
        "\n",
        " $$ \\sum (S_{ik} \\cos(\\alpha_{ik} + v_{\\alpha_{ik}})) = 0 $$\n",
        "  $$\\sum (S_{ik} \\sin(\\alpha_{ik} + v_{\\alpha_{ik}})) = 0 $$\n",
        "\n",
        "  Aqui, $S_{ik}$são as distâncias medidas, $\\alpha_{ik}$ são os azimutes medidos, e $v_{\\alpha_{ik}}$são as correções nos azimutes.\n",
        "\n",
        "Para poligonais abertas, as condições de fechamento não se aplicam, mas podem existir outras restrições específicas, como a orientação ou a posição relativa entre pontos específicos, que devem ser respeitadas. Estas são traduzidas em equações de condição apropriadas, baseadas nas necessidades específicas do levantamento.\n",
        "\n",
        "A formulação precisa das equações de condição dependerá dos dados disponíveis e do contexto específico do projeto de levantamento.\n"
      ]
    },
    {
      "cell_type": "markdown",
      "source": [
        "Vetor Erro de Fechamento $W$"
      ],
      "metadata": {
        "id": "R48AwP7Fn2lm"
      }
    },
    {
      "cell_type": "code",
      "source": [
        "n = 3"
      ],
      "metadata": {
        "id": "5KpPLMpPkiFC"
      },
      "execution_count": 307,
      "outputs": []
    },
    {
      "cell_type": "code",
      "execution_count": 308,
      "metadata": {
        "id": "9WwcYJ1JH3wu"
      },
      "outputs": [],
      "source": [
        "wang = Lb[0]+Lb[1]+Lb[2]+Lb[3]+(4*DesvPAngsDec) - ((n-2)*180)\n",
        "wlin1 = Lb[4]*mt.cos(Azirad[0]+desvPazirad) + Lb[5]*mt.cos(Azirad[1]+desvPazirad) + Lb[6]*mt.cos(Azirad[2]+desvPazirad)\n",
        "wlin2 = Lb[4]*mt.sin(Azirad[0]+desvPazirad) + Lb[5]*mt.sin(Azirad[1]+desvPazirad) + Lb[6]*mt.sin(Azirad[2]+desvPazirad)\n",
        "W = sp.Matrix([wang,wlin1,wlin2])"
      ]
    },
    {
      "cell_type": "markdown",
      "metadata": {
        "id": "bThCtD1tIB3P"
      },
      "source": [
        "## Passo 3: Derivação das Equações Normais"
      ]
    },
    {
      "cell_type": "code",
      "execution_count": 309,
      "metadata": {
        "id": "CGxGsI2QILM3"
      },
      "outputs": [],
      "source": [
        "a1,a2,a3,a4,d1,d2,d3 = sp.symbols('a1 a2 a3 a4 d1 d2 d3')\n",
        "vetorvariavel = sp.Matrix([a1,a2,a3,a4,d1,d2,d3])\n",
        "az1,az2,az3 = sp.symbols('az1 az2 az3')\n",
        "vetorparametro = sp.Matrix([az1,az2,az3])"
      ]
    },
    {
      "cell_type": "markdown",
      "source": [
        "Equações Normais $f_i$"
      ],
      "metadata": {
        "id": "y9ef4B2G7KWR"
      }
    },
    {
      "cell_type": "code",
      "source": [
        "f1 = a1+a2+a3+a4-180\n",
        "f2 = (d1*sp.cos(az1))+(d2*sp.cos(az2))+(d3*sp.cos(az3))\n",
        "f3 = (d1*sp.sin(az1))+(d2*sp.sin(az2))+(d3*sp.sin(az3))\n",
        "F = sp.Matrix([f1,f2,f3])"
      ],
      "metadata": {
        "id": "_a5Kb1SN7HLz"
      },
      "execution_count": 310,
      "outputs": []
    },
    {
      "cell_type": "markdown",
      "metadata": {
        "id": "mSyoQsLRHnqP"
      },
      "source": [
        "## Passo 4: Resolução do Sistema de Equações Normais"
      ]
    },
    {
      "cell_type": "code",
      "source": [
        "dicionario = {a1:Lb[0],a2:Lb[1],a3:Lb[2],a4:Lb[3],d1:Lb[4],d2:Lb[5],d3:Lb[6],az1:Azirad[0],az2:Azirad[1],az3:Azirad[2]}"
      ],
      "metadata": {
        "id": "Ni_VyLZS-IiM"
      },
      "execution_count": 311,
      "outputs": []
    },
    {
      "cell_type": "markdown",
      "source": [
        "Matriz $B$"
      ],
      "metadata": {
        "id": "JUc6s70FEcAv"
      }
    },
    {
      "cell_type": "code",
      "execution_count": 312,
      "metadata": {
        "id": "V7UwYxUOIz1Q"
      },
      "outputs": [],
      "source": [
        "B = sp.zeros(3,7)\n",
        "for i in range(3):\n",
        "  for j in range(7):\n",
        "      B[i,j] = sp.diff(F[i],vetorvariavel[j])"
      ]
    },
    {
      "cell_type": "code",
      "source": [
        "B = B.subs(dicionario)"
      ],
      "metadata": {
        "id": "l6T5YXsC_1WA"
      },
      "execution_count": 313,
      "outputs": []
    },
    {
      "cell_type": "markdown",
      "metadata": {
        "id": "xh8wGW1YHvl-"
      },
      "source": [
        "## Passo 5: Aplicação das Correções às Observações"
      ]
    },
    {
      "cell_type": "markdown",
      "source": [
        "Matriz $M$"
      ],
      "metadata": {
        "id": "y9gO2yS9EklD"
      }
    },
    {
      "cell_type": "code",
      "source": [
        "M = B @ P.inv() @ B.T"
      ],
      "metadata": {
        "id": "COKTVWKZEM44"
      },
      "execution_count": 314,
      "outputs": []
    },
    {
      "cell_type": "markdown",
      "source": [
        "Vetor $K$"
      ],
      "metadata": {
        "id": "Ef16hSABFfWb"
      }
    },
    {
      "cell_type": "markdown",
      "source": [
        "$K = -M^{-1}W$"
      ],
      "metadata": {
        "id": "J0zgb13RRwQA"
      }
    },
    {
      "cell_type": "code",
      "source": [
        "K = -M.inv() @ W"
      ],
      "metadata": {
        "id": "l3SMOWfVFjPC"
      },
      "execution_count": 315,
      "outputs": []
    },
    {
      "cell_type": "markdown",
      "source": [
        "Vetor $V$\n",
        "\n",
        "$V = P^{-1}B^TK$"
      ],
      "metadata": {
        "id": "sU6aB9Nd7TnF"
      }
    },
    {
      "cell_type": "code",
      "execution_count": 316,
      "metadata": {
        "id": "l0K_6DOhIs2H"
      },
      "outputs": [],
      "source": [
        "V = P.inv() @ B.T @ K"
      ]
    },
    {
      "cell_type": "markdown",
      "source": [],
      "metadata": {
        "id": "xMp1zPbW7dC6"
      }
    },
    {
      "cell_type": "code",
      "execution_count": 317,
      "metadata": {
        "id": "tnwcIBhiI0uP"
      },
      "outputs": [],
      "source": [
        "La = Lb + V"
      ]
    },
    {
      "cell_type": "markdown",
      "source": [
        "###Iterações para $F(L_b)$"
      ],
      "metadata": {
        "id": "Cwp7KzJV2-0w"
      }
    },
    {
      "cell_type": "code",
      "source": [
        "z = 0\n",
        "L_b = Lb\n",
        "while abs(La[4]-L_b[4]) > 0.001:\n",
        "  #Matriz B\n",
        "  B = sp.zeros(3,7)\n",
        "  for i in range(3):\n",
        "    for j in range(7):\n",
        "        B[i,j] = sp.diff(F[i],vetorvariavel[j])\n",
        "  B = B.subs(dicionario)\n",
        "\n",
        "  #Vetor W\n",
        "  wang = Lb[0]+Lb[1]+Lb[2]+Lb[3]+(4*DesvPAngsDec) - ((n-2)*180)\n",
        "  wlin1 = Lb[4]*mt.cos(Azirad[0]+desvPazirad) + Lb[5]*mt.cos(Azirad[1]+desvPazirad) + Lb[6]*mt.cos(Azirad[2]+desvPazirad)\n",
        "  wlin2 = Lb[4]*mt.sin(Azirad[0]+desvPazirad) + Lb[5]*mt.sin(Azirad[1]+desvPazirad) + Lb[6]*mt.sin(Azirad[2]+desvPazirad)\n",
        "  W = sp.Matrix([wang,wlin1,wlin2])\n",
        "\n",
        "  #Matriz M\n",
        "  M = B @ P.inv() @ B.T\n",
        "\n",
        "  #Vetor K\n",
        "  K = -M.inv() @ W\n",
        "\n",
        "  #Vetor V\n",
        "  V = P.inv() @ B.T @ K\n",
        "\n",
        "  #Vetor La\n",
        "  La = Lb + V\n",
        "\n",
        "\n",
        "  #iterações\n",
        "  z = z + 1\n",
        "\n",
        "  #próxima iteração\n",
        "  L_b = Lb\n",
        "  Lb = La\n",
        "  dicionario = {a1:Lb[0],a2:Lb[1],a3:Lb[2],a4:Lb[3],d1:Lb[4],d2:Lb[5],d3:Lb[6],az1:Azirad[0],az2:Azirad[1],az3:Azirad[2]}"
      ],
      "metadata": {
        "id": "k2MgWWr529Mf"
      },
      "execution_count": 318,
      "outputs": []
    },
    {
      "cell_type": "code",
      "source": [
        "z"
      ],
      "metadata": {
        "colab": {
          "base_uri": "https://localhost:8080/"
        },
        "id": "xr9-tt75-RuJ",
        "outputId": "d1b698ae-9106-419f-ccdf-2fa03509224f"
      },
      "execution_count": 319,
      "outputs": [
        {
          "output_type": "execute_result",
          "data": {
            "text/plain": [
              "2"
            ]
          },
          "metadata": {},
          "execution_count": 319
        }
      ]
    },
    {
      "cell_type": "markdown",
      "source": [
        "Vetor $W$ final"
      ],
      "metadata": {
        "id": "gPeWBJDN68sq"
      }
    },
    {
      "cell_type": "code",
      "source": [
        "W"
      ],
      "metadata": {
        "colab": {
          "base_uri": "https://localhost:8080/",
          "height": 78
        },
        "id": "PDXJrjwF8i-o",
        "outputId": "75b18bd1-ca59-479a-eabf-53db2f930b08"
      },
      "execution_count": 320,
      "outputs": [
        {
          "output_type": "execute_result",
          "data": {
            "text/plain": [
              "Matrix([\n",
              "[                   0],\n",
              "[-7.09659389031003e-8],\n",
              "[-1.70219891515444e-8]])"
            ],
            "text/latex": "$\\displaystyle \\left[\\begin{matrix}0\\\\-7.09659389031003 \\cdot 10^{-8}\\\\-1.70219891515444 \\cdot 10^{-8}\\end{matrix}\\right]$"
          },
          "metadata": {},
          "execution_count": 320
        }
      ]
    },
    {
      "cell_type": "markdown",
      "source": [
        "Matriz $B$ final"
      ],
      "metadata": {
        "id": "YAO7q5Ay8kuf"
      }
    },
    {
      "cell_type": "code",
      "source": [
        "B"
      ],
      "metadata": {
        "colab": {
          "base_uri": "https://localhost:8080/",
          "height": 78
        },
        "id": "UVjMfAv78wj_",
        "outputId": "40d309d4-5c14-4768-ae01-1a43a9fd394f"
      },
      "execution_count": 321,
      "outputs": [
        {
          "output_type": "execute_result",
          "data": {
            "text/plain": [
              "Matrix([\n",
              "[1, 1, 1, 1,                 0,                  0,                  0],\n",
              "[0, 0, 0, 0, 0.707103353027822, -0.965927206544487,  0.258827942678595],\n",
              "[0, 0, 0, 0, 0.707110209328653,   0.25881389386423, -0.965923442146822]])"
            ],
            "text/latex": "$\\displaystyle \\left[\\begin{matrix}1 & 1 & 1 & 1 & 0 & 0 & 0\\\\0 & 0 & 0 & 0 & 0.707103353027822 & -0.965927206544487 & 0.258827942678595\\\\0 & 0 & 0 & 0 & 0.707110209328653 & 0.25881389386423 & -0.965923442146822\\end{matrix}\\right]$"
          },
          "metadata": {},
          "execution_count": 321
        }
      ]
    },
    {
      "cell_type": "markdown",
      "source": [
        "Matriz $M$ final"
      ],
      "metadata": {
        "id": "tNfkmb-A8x9X"
      }
    },
    {
      "cell_type": "code",
      "source": [
        "M"
      ],
      "metadata": {
        "colab": {
          "base_uri": "https://localhost:8080/",
          "height": 78
        },
        "id": "qevmTGFB85On",
        "outputId": "44252dcc-f7a2-4cd9-bb6a-c6595de075b9"
      },
      "execution_count": 322,
      "outputs": [
        {
          "output_type": "execute_result",
          "data": {
            "text/plain": [
              "Matrix([\n",
              "[0.000888888888888889,                    0,                    0],\n",
              "[                   0,   0.0150000242411726, -3.35885456995665e-8],\n",
              "[                   0, -3.35885456986991e-8,   0.0149999757588274]])"
            ],
            "text/latex": "$\\displaystyle \\left[\\begin{matrix}0.000888888888888889 & 0 & 0\\\\0 & 0.0150000242411726 & -3.35885456995665 \\cdot 10^{-8}\\\\0 & -3.35885456986991 \\cdot 10^{-8} & 0.0149999757588274\\end{matrix}\\right]$"
          },
          "metadata": {},
          "execution_count": 322
        }
      ]
    },
    {
      "cell_type": "markdown",
      "source": [
        "Vetor $K$ final"
      ],
      "metadata": {
        "id": "OWMdsjX986iu"
      }
    },
    {
      "cell_type": "code",
      "source": [
        "K"
      ],
      "metadata": {
        "colab": {
          "base_uri": "https://localhost:8080/",
          "height": 78
        },
        "id": "093sXcDd9DNL",
        "outputId": "a3722660-f0d5-4705-9b59-88d4b3bfad0e"
      },
      "execution_count": 323,
      "outputs": [
        {
          "output_type": "execute_result",
          "data": {
            "text/plain": [
              "Matrix([\n",
              "[                  0],\n",
              "[4.73105748889294e-6],\n",
              "[ 1.1348117046701e-6]])"
            ],
            "text/latex": "$\\displaystyle \\left[\\begin{matrix}0\\\\4.73105748889294 \\cdot 10^{-6}\\\\1.1348117046701 \\cdot 10^{-6}\\end{matrix}\\right]$"
          },
          "metadata": {},
          "execution_count": 323
        }
      ]
    },
    {
      "cell_type": "markdown",
      "source": [
        "Vetor $V$ final"
      ],
      "metadata": {
        "id": "LPGS56jx9KhY"
      }
    },
    {
      "cell_type": "code",
      "source": [
        "V"
      ],
      "metadata": {
        "colab": {
          "base_uri": "https://localhost:8080/",
          "height": 159
        },
        "id": "_m0HeA-i9Gyr",
        "outputId": "76b72a68-33cb-40cb-fdec-4eb8bd2c1e83"
      },
      "execution_count": 324,
      "outputs": [
        {
          "output_type": "execute_result",
          "data": {
            "text/plain": [
              "Matrix([\n",
              "[                   0],\n",
              "[                   0],\n",
              "[                   0],\n",
              "[                   0],\n",
              "[ 4.14778355580146e-8],\n",
              "[-4.27615210815936e-8],\n",
              "[ 1.28388648580875e-9]])"
            ],
            "text/latex": "$\\displaystyle \\left[\\begin{matrix}0\\\\0\\\\0\\\\0\\\\4.14778355580146 \\cdot 10^{-8}\\\\-4.27615210815936 \\cdot 10^{-8}\\\\1.28388648580875 \\cdot 10^{-9}\\end{matrix}\\right]$"
          },
          "metadata": {},
          "execution_count": 324
        }
      ]
    },
    {
      "cell_type": "markdown",
      "source": [
        "Vetor $Lb$ inicial"
      ],
      "metadata": {
        "id": "uWoCjtiq90CG"
      }
    },
    {
      "cell_type": "code",
      "source": [
        "L = sp.Matrix([AngDec[0],AngDec[1],AngDec[2],AngDec[3],Dist[0],Dist[1],Dist[2]])\n",
        "L"
      ],
      "metadata": {
        "colab": {
          "base_uri": "https://localhost:8080/",
          "height": 159
        },
        "id": "bx0xdsTu96xw",
        "outputId": "51ab1625-3721-48be-8822-f342b7957d34"
      },
      "execution_count": 325,
      "outputs": [
        {
          "output_type": "execute_result",
          "data": {
            "text/plain": [
              "Matrix([\n",
              "[90.0002777777778],\n",
              "[30.0000277777778],\n",
              "[30.0002222222222],\n",
              "[            21.0],\n",
              "[          1000.0],\n",
              "[        1000.005],\n",
              "[         1000.01]])"
            ],
            "text/latex": "$\\displaystyle \\left[\\begin{matrix}90.0002777777778\\\\30.0000277777778\\\\30.0002222222222\\\\21.0\\\\1000.0\\\\1000.005\\\\1000.01\\end{matrix}\\right]$"
          },
          "metadata": {},
          "execution_count": 325
        }
      ]
    },
    {
      "cell_type": "markdown",
      "source": [
        "Vetor $L_a$ final"
      ],
      "metadata": {
        "id": "xT5t1D-M9WDv"
      }
    },
    {
      "cell_type": "code",
      "source": [
        "La"
      ],
      "metadata": {
        "colab": {
          "base_uri": "https://localhost:8080/",
          "height": 159
        },
        "id": "bexjtYcY9gBW",
        "outputId": "b13a3367-5c14-430a-e1ad-eee6568d3a72"
      },
      "execution_count": 326,
      "outputs": [
        {
          "output_type": "execute_result",
          "data": {
            "text/plain": [
              "Matrix([\n",
              "[92.2499236111111],\n",
              "[32.2496736111111],\n",
              "[32.2498680555556],\n",
              "[23.2496458333333],\n",
              "[1000.00276072798],\n",
              "[1000.00751917403],\n",
              "[1000.00472009635]])"
            ],
            "text/latex": "$\\displaystyle \\left[\\begin{matrix}92.2499236111111\\\\32.2496736111111\\\\32.2498680555556\\\\23.2496458333333\\\\1000.00276072798\\\\1000.00751917403\\\\1000.00472009635\\end{matrix}\\right]$"
          },
          "metadata": {},
          "execution_count": 326
        }
      ]
    },
    {
      "cell_type": "markdown",
      "source": [
        "###Matrizes de Variância-covariância considerando $F(L_b)$"
      ],
      "metadata": {
        "id": "aRqxBmoo3utf"
      }
    },
    {
      "cell_type": "markdown",
      "source": [
        "Variância à posteriori $σ_0^2$"
      ],
      "metadata": {
        "id": "Pr4iwIBTGwKt"
      }
    },
    {
      "cell_type": "markdown",
      "source": [
        " $σ_{0}^2 = \\frac{V^TPV}{r}$"
      ],
      "metadata": {
        "id": "0Eq3_uYf8Pi-"
      }
    },
    {
      "cell_type": "code",
      "source": [
        "VTPV = -K.T @ W /(7-3)\n",
        "VTPV"
      ],
      "metadata": {
        "colab": {
          "base_uri": "https://localhost:8080/",
          "height": 38
        },
        "id": "L_BqFYgQGvY1",
        "outputId": "07f39c83-f8ce-4a1a-9dea-7624cf523bb9"
      },
      "execution_count": 327,
      "outputs": [
        {
          "output_type": "execute_result",
          "data": {
            "text/plain": [
              "Matrix([[8.87651723074428e-14]])"
            ],
            "text/latex": "$\\displaystyle \\left[\\begin{matrix}8.87651723074428 \\cdot 10^{-14}\\end{matrix}\\right]$"
          },
          "metadata": {},
          "execution_count": 327
        }
      ]
    },
    {
      "cell_type": "markdown",
      "source": [
        "Matriz de Variância-covariância de La ($MVC_{L_a}$)\n",
        "\n",
        "$MVC_{L_a}= σ_0^2[P^{-1}-P^{-1}B^TM^{-1}BP^{-1}]$"
      ],
      "metadata": {
        "id": "6GyLySrfJ2ev"
      }
    },
    {
      "cell_type": "code",
      "source": [
        "MVC_La = VTPV[0]*(P.inv() - (P.inv() @ (B.T @ M @ B @ P.inv())))\n",
        "MVC_La"
      ],
      "metadata": {
        "colab": {
          "base_uri": "https://localhost:8080/",
          "height": 179
        },
        "id": "Asrf2uH-KZ1W",
        "outputId": "7666e622-bec9-49dd-84cc-fe4dadad0e32"
      },
      "execution_count": 328,
      "outputs": [
        {
          "output_type": "execute_result",
          "data": {
            "text/plain": [
              "Matrix([\n",
              "[ 1.97255899496848e-17, -3.89641359922932e-24, -3.89641359922932e-24, -3.89641359922932e-24,                    0,                    0,                    0],\n",
              "[-3.89641359922932e-24,  1.97255899496848e-17, -3.89641359922932e-24, -3.89641359922932e-24,                    0,                    0,                    0],\n",
              "[-3.89641359922932e-24, -3.89641359922932e-24,  1.97255899496848e-17, -3.89641359922932e-24,                    0,                    0,                    0],\n",
              "[-3.89641359922932e-24, -3.89641359922932e-24, -3.89641359922932e-24,  1.97255899496848e-17,                    0,                    0,                    0],\n",
              "[                    0,                     0,                     0,                     0, 8.87518575614119e-16, 6.65739724046535e-20, 6.65730406765883e-20],\n",
              "[                    0,                     0,                     0,                     0, 6.65739724046535e-20, 8.87518574980545e-16, 6.65746246108854e-20],\n",
              "[                    0,                     0,                     0,                     0, 6.65730406765883e-20, 6.65746246108854e-20, 8.87518575353235e-16]])"
            ],
            "text/latex": "$\\displaystyle \\left[\\begin{matrix}1.97255899496848 \\cdot 10^{-17} & -3.89641359922932 \\cdot 10^{-24} & -3.89641359922932 \\cdot 10^{-24} & -3.89641359922932 \\cdot 10^{-24} & 0 & 0 & 0\\\\-3.89641359922932 \\cdot 10^{-24} & 1.97255899496848 \\cdot 10^{-17} & -3.89641359922932 \\cdot 10^{-24} & -3.89641359922932 \\cdot 10^{-24} & 0 & 0 & 0\\\\-3.89641359922932 \\cdot 10^{-24} & -3.89641359922932 \\cdot 10^{-24} & 1.97255899496848 \\cdot 10^{-17} & -3.89641359922932 \\cdot 10^{-24} & 0 & 0 & 0\\\\-3.89641359922932 \\cdot 10^{-24} & -3.89641359922932 \\cdot 10^{-24} & -3.89641359922932 \\cdot 10^{-24} & 1.97255899496848 \\cdot 10^{-17} & 0 & 0 & 0\\\\0 & 0 & 0 & 0 & 8.87518575614119 \\cdot 10^{-16} & 6.65739724046535 \\cdot 10^{-20} & 6.65730406765883 \\cdot 10^{-20}\\\\0 & 0 & 0 & 0 & 6.65739724046535 \\cdot 10^{-20} & 8.87518574980545 \\cdot 10^{-16} & 6.65746246108854 \\cdot 10^{-20}\\\\0 & 0 & 0 & 0 & 6.65730406765883 \\cdot 10^{-20} & 6.65746246108854 \\cdot 10^{-20} & 8.87518575353235 \\cdot 10^{-16}\\end{matrix}\\right]$"
          },
          "metadata": {},
          "execution_count": 328
        }
      ]
    },
    {
      "cell_type": "markdown",
      "source": [
        "Matriz de Variância-covariância de V ($MVC_{V}$)"
      ],
      "metadata": {
        "id": "L6xIjAeKV0DW"
      }
    },
    {
      "cell_type": "markdown",
      "source": [
        "$MVC_{V} = MVC_{L_a} - σ_0^2P^{-1}$"
      ],
      "metadata": {
        "id": "MmeTUxUNWYRk"
      }
    },
    {
      "cell_type": "code",
      "source": [
        "MVC_V = MVC_La - (VTPV[0]*P.inv())\n",
        "MVC_V"
      ],
      "metadata": {
        "colab": {
          "base_uri": "https://localhost:8080/",
          "height": 179
        },
        "id": "g23-OzQxWiTI",
        "outputId": "2a75a2d6-661e-449b-a602-51414c969088"
      },
      "execution_count": 329,
      "outputs": [
        {
          "output_type": "execute_result",
          "data": {
            "text/plain": [
              "Matrix([\n",
              "[-3.89641360022488e-24, -3.89641359922932e-24, -3.89641359922932e-24, -3.89641359922932e-24,                     0,                     0,                     0],\n",
              "[-3.89641359922932e-24, -3.89641360022488e-24, -3.89641359922932e-24, -3.89641359922932e-24,                     0,                     0,                     0],\n",
              "[-3.89641359922932e-24, -3.89641359922932e-24, -3.89641360022488e-24, -3.89641359922932e-24,                     0,                     0,                     0],\n",
              "[-3.89641359922932e-24, -3.89641359922932e-24, -3.89641359922932e-24, -3.89641360022488e-24,                     0,                     0,                     0],\n",
              "[                    0,                     0,                     0,                     0, -1.33147460309735e-19,  6.65739724046535e-20,  6.65730406765883e-20],\n",
              "[                    0,                     0,                     0,                     0,  6.65739724046535e-20, -1.33148093883075e-19,  6.65746246108854e-20],\n",
              "[                    0,                     0,                     0,                     0,  6.65730406765883e-20,  6.65746246108854e-20, -1.33147721193629e-19]])"
            ],
            "text/latex": "$\\displaystyle \\left[\\begin{matrix}-3.89641360022488 \\cdot 10^{-24} & -3.89641359922932 \\cdot 10^{-24} & -3.89641359922932 \\cdot 10^{-24} & -3.89641359922932 \\cdot 10^{-24} & 0 & 0 & 0\\\\-3.89641359922932 \\cdot 10^{-24} & -3.89641360022488 \\cdot 10^{-24} & -3.89641359922932 \\cdot 10^{-24} & -3.89641359922932 \\cdot 10^{-24} & 0 & 0 & 0\\\\-3.89641359922932 \\cdot 10^{-24} & -3.89641359922932 \\cdot 10^{-24} & -3.89641360022488 \\cdot 10^{-24} & -3.89641359922932 \\cdot 10^{-24} & 0 & 0 & 0\\\\-3.89641359922932 \\cdot 10^{-24} & -3.89641359922932 \\cdot 10^{-24} & -3.89641359922932 \\cdot 10^{-24} & -3.89641360022488 \\cdot 10^{-24} & 0 & 0 & 0\\\\0 & 0 & 0 & 0 & -1.33147460309735 \\cdot 10^{-19} & 6.65739724046535 \\cdot 10^{-20} & 6.65730406765883 \\cdot 10^{-20}\\\\0 & 0 & 0 & 0 & 6.65739724046535 \\cdot 10^{-20} & -1.33148093883075 \\cdot 10^{-19} & 6.65746246108854 \\cdot 10^{-20}\\\\0 & 0 & 0 & 0 & 6.65730406765883 \\cdot 10^{-20} & 6.65746246108854 \\cdot 10^{-20} & -1.33147721193629 \\cdot 10^{-19}\\end{matrix}\\right]$"
          },
          "metadata": {},
          "execution_count": 329
        }
      ]
    },
    {
      "cell_type": "markdown",
      "source": [],
      "metadata": {
        "id": "yiaTlkML-1Jc"
      }
    },
    {
      "cell_type": "code",
      "source": [
        "x2,y2,x3,y3,x4,y4 = sp.symbols('x2 y2 x3 y3 x4 y4')\n",
        "vetorparametro2 = sp.Matrix([x2,y2,x3,y3,x4,y4])"
      ],
      "metadata": {
        "id": "D18xZfVKz1Rg"
      },
      "execution_count": 330,
      "outputs": []
    },
    {
      "cell_type": "markdown",
      "source": [
        "###Ajustamento das coordenadas da poligonal"
      ],
      "metadata": {
        "id": "Hwb3Eqwi_F8A"
      }
    },
    {
      "cell_type": "markdown",
      "source": [
        "Vetor $L_{b2}$"
      ],
      "metadata": {
        "id": "PABBkEstbGN4"
      }
    },
    {
      "cell_type": "code",
      "source": [
        "Lb2 = L"
      ],
      "metadata": {
        "id": "IMYU3RsEbkZO"
      },
      "execution_count": 331,
      "outputs": []
    },
    {
      "cell_type": "markdown",
      "source": [
        "Vetor $X_0$"
      ],
      "metadata": {
        "id": "ql9A5IwjfJ7-"
      }
    },
    {
      "cell_type": "code",
      "source": [
        "X0 = sp.Matrix([10707.11021,10707.10335,10965.92540,9741.17132,9999.99230,10000.00185])"
      ],
      "metadata": {
        "id": "jsL-9Gr7cgeN"
      },
      "execution_count": 332,
      "outputs": []
    },
    {
      "cell_type": "markdown",
      "source": [
        "Equações normais $g_i$"
      ],
      "metadata": {
        "id": "XFepBtsMxxkQ"
      }
    },
    {
      "cell_type": "code",
      "source": [
        "g1 = a1+a2+a3+a4-180\n",
        "g2 = ((x2-x4)**2)+((y2-y4)**2) - d1**2\n",
        "g3 = ((x3-x2)**2)+((y3-y2)**2) - d2**2\n",
        "g4 = ((x4-x3)**2)+((y4-y3)**2) - d3**2\n",
        "G = sp.Matrix([[g1],[g2],[g3],[g4]])"
      ],
      "metadata": {
        "id": "ZfGW-R6ex-lw"
      },
      "execution_count": 333,
      "outputs": []
    },
    {
      "cell_type": "code",
      "source": [
        "dicionario2 = {x2:X0[0],y2:X0[1],x3:X0[2],y3:X0[3],x4:X0[4],y4:X0[5],a1:Lb2[0],a2:Lb2[1],a3:Lb2[2],a4:Lb2[3],d1:Lb2[4],d2:Lb2[5],d3:Lb2[6]}"
      ],
      "metadata": {
        "id": "J7va3juxcXsk"
      },
      "execution_count": 334,
      "outputs": []
    },
    {
      "cell_type": "markdown",
      "source": [
        "Matriz $P_2$"
      ],
      "metadata": {
        "id": "DLhvugMafVel"
      }
    },
    {
      "cell_type": "code",
      "source": [
        "ex = -0.00770\n",
        "ey = 0.00185"
      ],
      "metadata": {
        "id": "cD-RKabXcXq8"
      },
      "execution_count": 335,
      "outputs": []
    },
    {
      "cell_type": "code",
      "source": [
        "P2 = P"
      ],
      "metadata": {
        "id": "r2QtBgSwfkHI"
      },
      "execution_count": 336,
      "outputs": []
    },
    {
      "cell_type": "markdown",
      "source": [
        "Vetor $W_2$"
      ],
      "metadata": {
        "id": "QUo8dZwtg6JJ"
      }
    },
    {
      "cell_type": "code",
      "source": [
        "w2ang = Lb[0]+Lb[1]+Lb[2]+Lb[3]+(4*DesvPAngsDec) - ((n-2)*180)\n",
        "w21 = ((X0[0]-X0[4])**2)+((X0[1]-X0[5])**2) - Lb2[4]**2\n",
        "w22 = ((X0[2]-X0[0])**2)+((X0[3]-X0[1])**2) - Lb2[5]**2\n",
        "w23 = ((X0[4]-X0[2])**2)+((X0[5]-X0[3])**2) - Lb2[6]**2\n",
        "W2 = sp.Matrix([[w2ang],[w21],[w22],[w23]])"
      ],
      "metadata": {
        "id": "-T3pkAMRhAFc"
      },
      "execution_count": 337,
      "outputs": []
    },
    {
      "cell_type": "markdown",
      "source": [
        "Matriz $A_2$"
      ],
      "metadata": {
        "id": "EzPoxKrwiqee"
      }
    },
    {
      "cell_type": "code",
      "source": [
        "A2 = sp.zeros(4,6)\n",
        "for i in range(4):\n",
        "  for j in range(6):\n",
        "      A2[i,j] = sp.diff(G[i],vetorparametro2[j])"
      ],
      "metadata": {
        "id": "_B6JvlQMjYg8"
      },
      "execution_count": 338,
      "outputs": []
    },
    {
      "cell_type": "code",
      "source": [
        "A2 = A2.subs(dicionario2)"
      ],
      "metadata": {
        "id": "kgYUZyCZj_Wq"
      },
      "execution_count": 339,
      "outputs": []
    },
    {
      "cell_type": "markdown",
      "source": [
        "Matriz $B_2$"
      ],
      "metadata": {
        "id": "XNBETeRQis9V"
      }
    },
    {
      "cell_type": "code",
      "source": [
        "B2 = sp.zeros(4,7)\n",
        "for i in range(4):\n",
        "  for j in range(7):\n",
        "      B2[i,j] = sp.diff(G[i],vetorvariavel[j])"
      ],
      "metadata": {
        "id": "bi3cBFcBjDwB"
      },
      "execution_count": 340,
      "outputs": []
    },
    {
      "cell_type": "code",
      "source": [
        "B2 = B2.subs(dicionario2)"
      ],
      "metadata": {
        "id": "iukPkr_OkFRT"
      },
      "execution_count": 341,
      "outputs": []
    },
    {
      "cell_type": "markdown",
      "source": [
        "Matriz $M_2$"
      ],
      "metadata": {
        "id": "vE9nBDrYmT9x"
      }
    },
    {
      "cell_type": "markdown",
      "source": [
        "$M_2 = B_2P_2^{-1}B_2^T$"
      ],
      "metadata": {
        "id": "goHjFpt8m6G8"
      }
    },
    {
      "cell_type": "code",
      "source": [
        "M2 = B2 @ P2.inv() @ B2.T"
      ],
      "metadata": {
        "id": "pRcO--OOmSvX"
      },
      "execution_count": 342,
      "outputs": []
    },
    {
      "cell_type": "markdown",
      "source": [
        "Vetor de correções $X$"
      ],
      "metadata": {
        "id": "VTvPJzVtmr_1"
      }
    },
    {
      "cell_type": "markdown",
      "source": [
        "$X=-(A_2^TM_2^{-1}A_2)^{-1}A_2^TM_2^{-1}W_2$"
      ],
      "metadata": {
        "id": "ne_iJdS3nGCM"
      }
    },
    {
      "cell_type": "code",
      "source": [
        "X = -(A2.T @ M2.inv() @ A2).inv() @ A2.T @ M2.inv() @ W2"
      ],
      "metadata": {
        "id": "jwEiQHvamzWe"
      },
      "execution_count": 343,
      "outputs": []
    },
    {
      "cell_type": "markdown",
      "source": [
        "Vetor de coordenadas ajustadas $X_a$\n",
        "\n",
        "$X_a = X_0 + X$"
      ],
      "metadata": {
        "id": "byvhWJyUoOIZ"
      }
    },
    {
      "cell_type": "code",
      "source": [
        "Xa = X0 + X"
      ],
      "metadata": {
        "id": "YBn8xrY5odLz"
      },
      "execution_count": 344,
      "outputs": []
    },
    {
      "cell_type": "markdown",
      "source": [
        "Vetor $K_2$\n",
        "\n",
        "$K_2 = -M^{-1}(A_2X + W_2)$"
      ],
      "metadata": {
        "id": "RmOWce_6pwzB"
      }
    },
    {
      "cell_type": "code",
      "source": [
        "K2 = -M2.inv() @ (A2 @ X + W2)"
      ],
      "metadata": {
        "id": "O52bREohqxoT"
      },
      "execution_count": 345,
      "outputs": []
    },
    {
      "cell_type": "markdown",
      "source": [
        "Vetor $V_2$\n",
        "\n",
        "$V_2 = P_2^{-1}B_2^TK_2$"
      ],
      "metadata": {
        "id": "Pm4IResTrXcc"
      }
    },
    {
      "cell_type": "code",
      "source": [
        "V2 = P2.inv() @ B2.T @ K2"
      ],
      "metadata": {
        "id": "4rcck9J2r5VM"
      },
      "execution_count": 346,
      "outputs": []
    },
    {
      "cell_type": "markdown",
      "source": [
        "Vetor $L_{a2}$"
      ],
      "metadata": {
        "id": "vFAbozSMvpq6"
      }
    },
    {
      "cell_type": "markdown",
      "source": [
        "$L_{a2} = L_{b2}+V_2$"
      ],
      "metadata": {
        "id": "1f-e6Oag7kjq"
      }
    },
    {
      "cell_type": "code",
      "source": [
        "La2 = Lb2 + V2"
      ],
      "metadata": {
        "id": "ydUXn1hRvl_r"
      },
      "execution_count": 347,
      "outputs": []
    },
    {
      "cell_type": "markdown",
      "source": [
        "###Iterações para $G(L_b,X_0)$"
      ],
      "metadata": {
        "id": "LSLACdq6__4p"
      }
    },
    {
      "cell_type": "code",
      "source": [
        "X_0 = X0\n",
        "h = 0\n",
        "while abs(Xa[0]-X_0[0]) > 0.001:\n",
        "  #Matriz A2\n",
        "  A2 = sp.zeros(4,6)\n",
        "  for i in range(4):\n",
        "    for j in range(6):\n",
        "        A2[i,j] = sp.diff(G[i],vetorparametro2[j])\n",
        "  A2 = A2.subs(dicionario2)\n",
        "\n",
        "  #Matriz B2\n",
        "  B2 = sp.zeros(4,7)\n",
        "  for i in range(4):\n",
        "    for j in range(7):\n",
        "        B2[i,j] = sp.diff(G[i],vetorvariavel[j])\n",
        "  B2 = B2.subs(dicionario2)\n",
        "\n",
        "  #Vetor W2\n",
        "  w2ang = Lb[0]+Lb[1]+Lb[2]+Lb[3]+(4*DesvPAngsDec) - ((n-2)*180)\n",
        "  w21 = ((X0[0]-X0[4])**2)+((X0[1]-X0[5])**2) - Lb2[4]**2\n",
        "  w22 = ((X0[2]-X0[0])**2)+((X0[3]-X0[1])**2) - Lb2[5]**2\n",
        "  w23 = ((X0[4]-X0[2])**2)+((X0[5]-X0[3])**2) - Lb2[6]**2\n",
        "  W2 = sp.Matrix([[w2ang],[w21],[w22],[w23]])\n",
        "\n",
        "  #Matriz M2\n",
        "  M2 = B2 @ P2.inv() @ B2.T\n",
        "\n",
        "  #Vetor X\n",
        "  X = -(A2.T @ M2.inv() @ A2).inv() @ A2.T @ M2.inv() @ W2\n",
        "\n",
        "  #Vetor Xa\n",
        "  Xa = X0 + X\n",
        "\n",
        "  #Vetor K2\n",
        "  K2 = -M2.inv() @ (A2 @ X + W2)\n",
        "\n",
        "  #Vetor V2\n",
        "  V2 = P2.inv() @ B2.T @ K2\n",
        "\n",
        "  #Vetor La2\n",
        "  La2 = Lb2 + V2\n",
        "\n",
        "  #próxima iteração\n",
        "  h = h + 1\n",
        "  X_0 = X0\n",
        "  X0 = Xa\n",
        "  Lb2 = La2"
      ],
      "metadata": {
        "id": "rJ13RsIFAZ7R"
      },
      "execution_count": 348,
      "outputs": []
    },
    {
      "cell_type": "code",
      "source": [
        "h"
      ],
      "metadata": {
        "colab": {
          "base_uri": "https://localhost:8080/"
        },
        "id": "u7Qr0S2xFs2_",
        "outputId": "39e959bb-cb31-4dec-f068-072f8a3989be"
      },
      "execution_count": 349,
      "outputs": [
        {
          "output_type": "execute_result",
          "data": {
            "text/plain": [
              "2"
            ]
          },
          "metadata": {},
          "execution_count": 349
        }
      ]
    },
    {
      "cell_type": "markdown",
      "source": [
        "Vetor $X_0$ inicial"
      ],
      "metadata": {
        "id": "rb_9j5hhEDhF"
      }
    },
    {
      "cell_type": "code",
      "source": [
        "Xi = sp.Matrix([10707.11021,10707.10335,10965.92540,9741.17132,9999.99230,10000.00185])\n",
        "Xi"
      ],
      "metadata": {
        "colab": {
          "base_uri": "https://localhost:8080/",
          "height": 139
        },
        "id": "4-L4BM5oD9p6",
        "outputId": "5e2ad538-b185-4145-b644-40e52a1f5f46"
      },
      "execution_count": 350,
      "outputs": [
        {
          "output_type": "execute_result",
          "data": {
            "text/plain": [
              "Matrix([\n",
              "[10707.11021],\n",
              "[10707.10335],\n",
              "[ 10965.9254],\n",
              "[ 9741.17132],\n",
              "[  9999.9923],\n",
              "[10000.00185]])"
            ],
            "text/latex": "$\\displaystyle \\left[\\begin{matrix}10707.11021\\\\10707.10335\\\\10965.9254\\\\9741.17132\\\\9999.9923\\\\10000.00185\\end{matrix}\\right]$"
          },
          "metadata": {},
          "execution_count": 350
        }
      ]
    },
    {
      "cell_type": "markdown",
      "source": [
        "Vetor $Xa$ final"
      ],
      "metadata": {
        "id": "u_A0-Ut3DylD"
      }
    },
    {
      "cell_type": "code",
      "source": [
        "Xa"
      ],
      "metadata": {
        "colab": {
          "base_uri": "https://localhost:8080/",
          "height": 139
        },
        "id": "UMIrpsGXDxz4",
        "outputId": "71226ca2-ce9c-4c86-819b-0f9f5035a1a7"
      },
      "execution_count": 351,
      "outputs": [
        {
          "output_type": "execute_result",
          "data": {
            "text/plain": [
              "Matrix([\n",
              "[10707.0969820909],\n",
              "[10707.1066752575],\n",
              "[10965.9568223473],\n",
              "[9741.18455394719],\n",
              "[10000.0022266958],\n",
              "[9999.99357989487]])"
            ],
            "text/latex": "$\\displaystyle \\left[\\begin{matrix}10707.0969820909\\\\10707.1066752575\\\\10965.9568223473\\\\9741.18455394719\\\\10000.0022266958\\\\9999.99357989487\\end{matrix}\\right]$"
          },
          "metadata": {},
          "execution_count": 351
        }
      ]
    },
    {
      "cell_type": "markdown",
      "source": [
        "###Matrizes de Variância-covariância considerando $G(L_b,X_0)$"
      ],
      "metadata": {
        "id": "pDRfz7SD4HwM"
      }
    },
    {
      "cell_type": "markdown",
      "source": [
        "Variância à posteriori $σ_{0_2}^2$"
      ],
      "metadata": {
        "id": "n8SUZpCYsOnv"
      }
    },
    {
      "cell_type": "markdown",
      "source": [
        " $σ_{0_2}^2 = \\frac{V_2^TP_2V_2}{r}$"
      ],
      "metadata": {
        "id": "QHqhkXj57xuB"
      }
    },
    {
      "cell_type": "code",
      "source": [
        "VTPV2 = V2.T @ P2 @ V2 /(7-6)\n",
        "VTPV2"
      ],
      "metadata": {
        "colab": {
          "base_uri": "https://localhost:8080/",
          "height": 38
        },
        "id": "QVQD8eDRsULH",
        "outputId": "54219fc1-ec64-4c2c-f888-51e4be04c986"
      },
      "execution_count": 352,
      "outputs": [
        {
          "output_type": "execute_result",
          "data": {
            "text/plain": [
              "Matrix([[3.0033673838052e-9]])"
            ],
            "text/latex": "$\\displaystyle \\left[\\begin{matrix}3.0033673838052 \\cdot 10^{-9}\\end{matrix}\\right]$"
          },
          "metadata": {},
          "execution_count": 352
        }
      ]
    },
    {
      "cell_type": "markdown",
      "source": [
        "Matriz de Variância-covariância de Xa $(MVC_{X_a})$\n",
        "\n",
        "$MVC_{X_a} = σ_{0_2}^2(A_2^TM_2^{-1}A_2)^{-1}$"
      ],
      "metadata": {
        "id": "_1Tron4-ol_8"
      }
    },
    {
      "cell_type": "code",
      "source": [
        "MVC_Xa = VTPV2[0]*(A2.T @ M2.inv() @ A2).inv()\n",
        "MVC_Xa"
      ],
      "metadata": {
        "colab": {
          "base_uri": "https://localhost:8080/",
          "height": 139
        },
        "id": "K4g77aJcw_JV",
        "outputId": "a046dcb6-14db-4952-9630-ea6d93468fcc"
      },
      "execution_count": 353,
      "outputs": [
        {
          "output_type": "execute_result",
          "data": {
            "text/plain": [
              "Matrix([\n",
              "[ 533861.493728979,  376446.241867208,  263127.878834172,  303904.934816456,  335673.485414833,  574638.849613284],\n",
              "[-3479.94555398018, -389431.070919106,  -228317.05011899, -449674.707251408, -168069.843140848, -224837.353625704],\n",
              "[ 88223.3627046663, -431405.916462821, -648921.778540198, -628919.151207574, -451396.837167942,  108226.806601269],\n",
              "[-122885.777403559, -605889.789914164,  -472694.80966257, -699618.839511817, -378960.204735568, -349809.419755909],\n",
              "[ 207636.271748828, -214934.367939674, -404529.534704441, -378960.204735568, -240493.976082187,  233206.279837272],\n",
              "[ 322752.847271224,  201963.263304721,  439355.858024227,  233206.279837272,  408110.989715227,  116603.139918636]])"
            ],
            "text/latex": "$\\displaystyle \\left[\\begin{matrix}533861.493728979 & 376446.241867208 & 263127.878834172 & 303904.934816456 & 335673.485414833 & 574638.849613284\\\\-3479.94555398018 & -389431.070919106 & -228317.05011899 & -449674.707251408 & -168069.843140848 & -224837.353625704\\\\88223.3627046663 & -431405.916462821 & -648921.778540198 & -628919.151207574 & -451396.837167942 & 108226.806601269\\\\-122885.777403559 & -605889.789914164 & -472694.80966257 & -699618.839511817 & -378960.204735568 & -349809.419755909\\\\207636.271748828 & -214934.367939674 & -404529.534704441 & -378960.204735568 & -240493.976082187 & 233206.279837272\\\\322752.847271224 & 201963.263304721 & 439355.858024227 & 233206.279837272 & 408110.989715227 & 116603.139918636\\end{matrix}\\right]$"
          },
          "metadata": {},
          "execution_count": 353
        }
      ]
    },
    {
      "cell_type": "markdown",
      "source": [
        "Matriz de Variância-covariância de La ($MVC_{L_{a2}}$)\n",
        "\n",
        "$MVC_{L_{a2}}= σ_{0_2}^2[P_2^{-1}-P_2^{-1}B_2^TM_2^{-1}B_2P_2^{-1}]$"
      ],
      "metadata": {
        "id": "US86Qy_9wICf"
      }
    },
    {
      "cell_type": "code",
      "source": [
        "MVC_La2 = VTPV2[0]*(P2.inv() - (P2.inv() @ (B2.T @ M2 @ B2 @ P2.inv())))\n",
        "MVC_La2"
      ],
      "metadata": {
        "colab": {
          "base_uri": "https://localhost:8080/",
          "height": 159
        },
        "id": "SGgqZ46pw7fo",
        "outputId": "5f023ffb-e9f7-42b5-b80b-2637dfbcc966"
      },
      "execution_count": 354,
      "outputs": [
        {
          "output_type": "execute_result",
          "data": {
            "text/plain": [
              "Matrix([\n",
              "[ 6.67414842343876e-13, -1.31835056627937e-19, -1.31835056627937e-19, -1.31835056627937e-19,                   0,                   0,                   0],\n",
              "[-1.31835056627937e-19,  6.67414842343876e-13, -1.31835056627937e-19, -1.31835056627937e-19,                   0,                   0,                   0],\n",
              "[-1.31835056627937e-19, -1.31835056627937e-19,  6.67414842343876e-13, -1.31835056627937e-19,                   0,                   0,                   0],\n",
              "[-1.31835056627937e-19, -1.31835056627937e-19, -1.31835056627937e-19,  6.67414842343876e-13,                   0,                   0,                   0],\n",
              "[                    0,                     0,                     0,                     0, -0.0480538781108495,                   0,                   0],\n",
              "[                    0,                     0,                     0,                     0,                   0, -0.0480548391956204,                   0],\n",
              "[                    0,                     0,                     0,                     0,                   0,                   0, -0.0480558002948077]])"
            ],
            "text/latex": "$\\displaystyle \\left[\\begin{matrix}6.67414842343876 \\cdot 10^{-13} & -1.31835056627937 \\cdot 10^{-19} & -1.31835056627937 \\cdot 10^{-19} & -1.31835056627937 \\cdot 10^{-19} & 0 & 0 & 0\\\\-1.31835056627937 \\cdot 10^{-19} & 6.67414842343876 \\cdot 10^{-13} & -1.31835056627937 \\cdot 10^{-19} & -1.31835056627937 \\cdot 10^{-19} & 0 & 0 & 0\\\\-1.31835056627937 \\cdot 10^{-19} & -1.31835056627937 \\cdot 10^{-19} & 6.67414842343876 \\cdot 10^{-13} & -1.31835056627937 \\cdot 10^{-19} & 0 & 0 & 0\\\\-1.31835056627937 \\cdot 10^{-19} & -1.31835056627937 \\cdot 10^{-19} & -1.31835056627937 \\cdot 10^{-19} & 6.67414842343876 \\cdot 10^{-13} & 0 & 0 & 0\\\\0 & 0 & 0 & 0 & -0.0480538781108495 & 0 & 0\\\\0 & 0 & 0 & 0 & 0 & -0.0480548391956204 & 0\\\\0 & 0 & 0 & 0 & 0 & 0 & -0.0480558002948077\\end{matrix}\\right]$"
          },
          "metadata": {},
          "execution_count": 354
        }
      ]
    },
    {
      "cell_type": "markdown",
      "source": [
        "Matriz de Variância-covariância de V ($MVC_{V2}$)"
      ],
      "metadata": {
        "id": "5saPPnxtwY7P"
      }
    },
    {
      "cell_type": "markdown",
      "source": [
        "$MVC_{V2} = MVC_{L_{a2}} - σ_{0_2}^2P_2^{-1}$"
      ],
      "metadata": {
        "id": "hbAb3aL0wY7h"
      }
    },
    {
      "cell_type": "code",
      "source": [
        "MVC_V2 = MVC_La2 - (VTPV2[0]*P2.inv())\n",
        "MVC_V2"
      ],
      "metadata": {
        "colab": {
          "base_uri": "https://localhost:8080/",
          "height": 159
        },
        "outputId": "bf7db48a-c4f9-437b-b399-ddd4aa9a4353",
        "id": "AsVoCa58wY7i"
      },
      "execution_count": 355,
      "outputs": [
        {
          "output_type": "execute_result",
          "data": {
            "text/plain": [
              "Matrix([\n",
              "[ -1.3183505668353e-19, -1.31835056627937e-19, -1.31835056627937e-19, -1.31835056627937e-19,                   0,                   0,                   0],\n",
              "[-1.31835056627937e-19,  -1.3183505668353e-19, -1.31835056627937e-19, -1.31835056627937e-19,                   0,                   0,                   0],\n",
              "[-1.31835056627937e-19, -1.31835056627937e-19,  -1.3183505668353e-19, -1.31835056627937e-19,                   0,                   0,                   0],\n",
              "[-1.31835056627937e-19, -1.31835056627937e-19, -1.31835056627937e-19,  -1.3183505668353e-19,                   0,                   0,                   0],\n",
              "[                    0,                     0,                     0,                     0, -0.0480538781408832,                   0,                   0],\n",
              "[                    0,                     0,                     0,                     0,                   0, -0.0480548392256541,                   0],\n",
              "[                    0,                     0,                     0,                     0,                   0,                   0, -0.0480558003248413]])"
            ],
            "text/latex": "$\\displaystyle \\left[\\begin{matrix}-1.3183505668353 \\cdot 10^{-19} & -1.31835056627937 \\cdot 10^{-19} & -1.31835056627937 \\cdot 10^{-19} & -1.31835056627937 \\cdot 10^{-19} & 0 & 0 & 0\\\\-1.31835056627937 \\cdot 10^{-19} & -1.3183505668353 \\cdot 10^{-19} & -1.31835056627937 \\cdot 10^{-19} & -1.31835056627937 \\cdot 10^{-19} & 0 & 0 & 0\\\\-1.31835056627937 \\cdot 10^{-19} & -1.31835056627937 \\cdot 10^{-19} & -1.3183505668353 \\cdot 10^{-19} & -1.31835056627937 \\cdot 10^{-19} & 0 & 0 & 0\\\\-1.31835056627937 \\cdot 10^{-19} & -1.31835056627937 \\cdot 10^{-19} & -1.31835056627937 \\cdot 10^{-19} & -1.3183505668353 \\cdot 10^{-19} & 0 & 0 & 0\\\\0 & 0 & 0 & 0 & -0.0480538781408832 & 0 & 0\\\\0 & 0 & 0 & 0 & 0 & -0.0480548392256541 & 0\\\\0 & 0 & 0 & 0 & 0 & 0 & -0.0480558003248413\\end{matrix}\\right]$"
          },
          "metadata": {},
          "execution_count": 355
        }
      ]
    }
  ],
  "metadata": {
    "colab": {
      "provenance": []
    },
    "kernelspec": {
      "display_name": "Python 3",
      "name": "python3"
    },
    "language_info": {
      "name": "python"
    }
  },
  "nbformat": 4,
  "nbformat_minor": 0
}